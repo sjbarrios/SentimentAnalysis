{
 "cells": [
  {
   "cell_type": "markdown",
   "metadata": {
    "colab_type": "text",
    "id": "LKCwkCC80MzJ"
   },
   "source": [
    "Universidad Galileo\n",
    "\n",
    "Text Mining and Image Recognition\n",
    "\n",
    "PAPD - Sección V\n",
    "\n",
    "Sergio José Barrios Martínez\n",
    "\n",
    "Carnet No. 19012765\n",
    "\n",
    "## Hoja de Trabajo No. 4\n",
    "\n",
    "\n",
    "### Problema 1:\n",
    "Para este problema deberá hacer análisis de sentimientos para un conjunto de reviews de **Yelp**, deberá mostrar las siguientes métricas sobre el conjunto de reviews:\n",
    "1. Mostrar el porcentaje de comentarios positivos y comentarios negativos en una misma gráfica\n",
    "2. Mostrar una gráfica tipo boxplot para la distribución de los resultados de la polaridad y la subjetividad\n",
    "3. Deberá realizar un análisis estadístico con comentarios sobre los resultados de sus hallazgos a partir de las graficas anteriores."
   ]
  },
  {
   "cell_type": "code",
   "execution_count": 1,
   "metadata": {
    "colab": {},
    "colab_type": "code",
    "id": "Fg69JTSRxTKz"
   },
   "outputs": [],
   "source": [
    "import requests\n",
    "import re\n",
    "import numpy as np\n",
    "import pandas as pd"
   ]
  },
  {
   "cell_type": "markdown",
   "metadata": {
    "colab_type": "text",
    "id": "cGRG1bq8yCF-"
   },
   "source": [
    "Se encuentra el número total de Reviews declarados como contabilizados en la página, para un Restaurante llamado \"Azul\":"
   ]
  },
  {
   "cell_type": "code",
   "execution_count": 7,
   "metadata": {
    "colab": {
     "base_uri": "https://localhost:8080/",
     "height": 34
    },
    "colab_type": "code",
    "id": "G1SXMPf-yH0g",
    "outputId": "e2967af9-313b-45a9-af93-33e85a5eb231"
   },
   "outputs": [
    {
     "data": {
      "text/plain": [
       "283"
      ]
     },
     "execution_count": 7,
     "metadata": {
      "tags": []
     },
     "output_type": "execute_result"
    }
   ],
   "source": [
    "response = requests.get('https://www.yelp.com/biz/azul-ciudad-de-m%C3%A9xico')\n",
    "TextoInicio = '<p class=\"lemon--p__373c0__3Qnnj text__373c0__2U54h text-color--mid__373c0__27i5f text-align--left__373c0__1Uy60 text-size--large__373c0__1j9OF\">'\n",
    "TextoFinal ='reviews</p>'\n",
    "\n",
    "numeroreviews = re.search(TextoInicio + '(.+?)' + TextoFinal, response.text).group(1)\n",
    "numeroreviews = np.int(numeroreviews)\n",
    "numeroreviews"
   ]
  },
  {
   "cell_type": "markdown",
   "metadata": {
    "colab_type": "text",
    "id": "jYmEasnC0V5k"
   },
   "source": [
    "Se arma el Corpus a realizar el Sentiment Analysis:"
   ]
  },
  {
   "cell_type": "code",
   "execution_count": 8,
   "metadata": {
    "colab": {
     "base_uri": "https://localhost:8080/",
     "height": 1000
    },
    "colab_type": "code",
    "id": "qwiJ--BixoBy",
    "outputId": "f1d058bf-3c7b-44d5-baa1-41751fff2be1"
   },
   "outputs": [
    {
     "name": "stdout",
     "output_type": "stream",
     "text": [
      "0\n",
      "https://www.yelp.com/biz/azul-ciudad-de-méxico?start=0\n",
      "200\n",
      "What a wonderful experience.  It is a very busy restaurant so if you know ahead of time I would make reservations otherwise it is first come, first serve.  Right when you walk in the courtyard you get a view and some ladies making homemade tortillas.  It is in a very nice courtyard with some very nice shopping upstairs.  <br><br>They bring out a very nice antipasto dish with olives, tomatoes, and olive oil to start with bread.  I had the aqua fresca to drink which was a limonata flavor and chia seeds.  It was so nice and refreshing and the chia seeds gave it a nice texture.  I started with the 18 flowers soup which they call a &#34;Mexican luxury&#34;.  It is made from zucchini squash and the blossoms of the zucchini.  It was soooo delicious!  Very creamy and I did not want it to end.  My main course was the black mole enchiladas.  You usually find black mole in Oaxaca.  It was such a great flavor and such a difference to my in-law&#39;s mole that she makes.  You can taste the dark chocolate but not in a sweet way.  It offers a creamy bitter flavor that is very complex and compliments the chicken in the enchilada.  For dessert we shared a tropical fruit with whipped cream and coffee sauce. The fruit is called mamey and it is a native tropical fruit that to me, tastes like a mix between a cantaloupe, an avocado, and a papaya. It was lovely and a nice change from out heavy main course.<br><br>The service and the staff were very friendly and attentive.\n",
      "----\n",
      "I originally asked to make a reservation and was informed they don&#39;t take reservations so I put my name on the waitlist since the hostess said it was an hour or more wait. <br>Finally my mom and I were seated at this table on the aisle where there is a walkway behind us. Servers and other guests bumped the table a few times throughout the meal and I couldn&#39;t help but notice a few tables around us had reserved signs on them with peoples names written on them. :/<br>Service felt super rushed. It seemed like they really just wanted us to leave. We ordered guacamole as an appetizer and 4 pork tacos as a meal to split.The tacos came out very shortly after the guacamole was delivered even though I specifically and politely requested they not be served at the same time. The guacamole was BLENDED which is just bizarre! It had a gross texture and boring flavor too. The tacos were actually pretty good but rather tiny. <br>If you&#39;re reading this review and wondering if you should go, go next store to Puntarena instead. It&#39;s within the same building and is far better in every aspect. I ate at Puntarena the night before and it was amazing.<br>The ambiance in Azul is nice and that&#39;s it. Would never ever go back since they clearly don&#39;t want white people there. The HOSTESS, a woman in her late 20s or early 30s, was the most RACIST of them all. Enjoy.\n",
      "----\n",
      "This place was amazing. We were downtown in the historical area of Mexico City and we wanted authentic Mexican food. Yes that sounds silly but it&#39;s hard to find sometimes. I had the mole negro and the tortilla soup also known as sopa azteca and it was delicious. The service was magnificent.\n",
      "----\n",
      "Absolutely incredible! What an amazing experience at a restaurant. The ambiance and decor is so beautifully done; they have made it feel like you are dining outside with the tree inside along with candles lit hanging from the branches and I believe to be a big sky light above. <br><br>They have people making tortillas right as you walk in. There was a bit of a wait even though we had a reservation but you can definitely and should go upstairs to the rooftop where there is a bar to grab a drink and overlook the city. Again beautiful views very well done menu and lay out the rooftop. And the food was delicious and the service was perfect and - it was a great way to celebrate my birthday! I highly recommend and will definitely return anytime I&#39;m in Mexico City\n",
      "----\n",
      "My favorite meal in Mexico City! This place has it all. Ambiance was great it&#39;s like your eating in a forest. The service was beyond great everything we needed we got in seconds. The food itself is very good and made with care and fresh ingredients. <br><br>We ordered server all different things and all were good there were some standouts though. <br><br>The poc chuck which is a Yucatán style grilled pork chop was so tender and juicy. <br><br>The cochinita pibil was amazing. All the flavor and the habanero salsa they paired it with was delicious. <br><br>The best thing about this place is the hand made tortillas which really hit the spot. They are so warm and fresh they make the entire meal more memorable. <br><br>I will be honest this place is a little expensive compared to other places in Mexico City. The food and service here were unparalleled so I would definitely recommend d coming here.\n",
      "----\n",
      "Let me preface my review by saying that Azul is not cheap even by New York standards. It&#39;s definitely expensive by Mexico standards. That said, everything in here is beautiful. The restaurant is located in the courtyard of a hotel center but it&#39;s covered by trees. The lighting and plating are all very beautiful. <br><br>We ordered mezcal just to drink out of the intricate mezcal cups. The guacamole here comes with grasshoppers by default. I opted to have it without insects. The guacamole is also very different from what we&#39;re used to and is almost a spread consistency rather than a dip. <br><br>The tacos de lechon were really delicious. The rellenos de patas was a bit of a miss for me. The mole was tasty but a bit too sweet and the rellenos felt like crispy dry duck dumplings. <br><br>The desert on the other hand was delicious. The tres leches was amazing and I typically don&#39;t even like desserts. <br><br>Overall I&#39;d recommend a visit. It&#39;s a beautiful restaurant and is a great change from street tacos.\n",
      "----\n",
      "Beautiful restaurant located in the middle of an indoor market. Great location and beautiful decor! Unfortunately, our experience with the food was not good, especially for the price.<br><br>Ambiance/Service: The service was very good and the staff was super friendly from the entrance, to the waiters, as well as the chefs, etc. All extremely welcoming and nice. The ambiance is absolutely beautiful! There is an amazing tree in the courtyard where the restaurant is located that goes super high and covers you from any sun. They put beautiful oil lights hanging from the tree, and the presentation to all of their food was excellent.<br><br>Food/Drinks: For drinks we ordered both margaritas and wine, which both were very good and were pleased with what we got. As far as food, we had two tamales as well as two soups. Unfortunately, none of the food that we had was very good... Maybe it was because we didn&#39;t order the main entrees, but i would expect all food to be good here. Our tamales were good, but not great. I couldn&#39;t even cut it with a fork because it was so thick, which i have never experienced. The soups were beautiful presentation, but was extremely flavorless, as if when we ordered it, they just made it and didn&#39;t have any time for the broth to get flavor... <br><br>We had hoped for a better experience here since the reviews show well as well as the ambiance and service. We have already talked about thinking of giving it another shot, so hopefully I can add to the review, but we are not sure yet, since it wasn&#39;t the most inexpensive dinner.\n",
      "----\n",
      "If you&#39;re looking for a purely authentic Mexican fine dining experience that blends locals with the CDMX expat and tourist scene Azul is going to fit that bill. <br><br>Star 1: How were the service and atmosphere?<br><br>It&#39;s honestly near impossible to top the service and atmosphere at Azul. From the ambiance to the tortillas being made feet away to the tableside drink stations this is the perfect balance of class and comfort. Of note is that you should make a reservation by phone unless you&#39;re willing to wait an hour or more for a table on a peak night. Star. <br><br>Star 2: How were the portions relative to the cost?<br><br>Azul isn&#39;t cheap especially by CDMX standards, but it&#39;s entirely reasonable if you&#39;re coming here from the states. My medium portion of Mole Chicken Enchiladas was 168 MXP, or $8.80 USD at time of writing. That&#39;s absurdly cheap given the quality of this dish. Star. <br><br>Stars 3 and 4: How was the food?<br><br>I opted to accompany my Mole Chicken Enchiladas with some Tortilla Soup, which had great presentation and good flavors all around. From there, the Mole Chicken Enchiladas weren&#39;t too bitter or too sweet; but they also didn&#39;t have that pop that I look for with authentic enchiladas, and I felt the over generous portion of mole took a bit away from the fact that these were fresh tortillas that had been made only a few feet from where we were sitting. Single Star. <br><br>Star 5: Would you eat here every day if you could?<br><br>The food at Azul is fine, but the atmosphere is so great that I&#39;d gladly come daily. Star.\n",
      "----\n",
      "The mole was so good! I got the chicken thigh mole and it did not disappoint. Overall it was a bit pricier than expected but worth it!\n",
      "----\n",
      "First dinner stop after arriving in Mexico City.<br><br>After hitting up Pata Negra for drinks to wait out the hour long wait we were quickly sat at our table and were instantly awe struck by the ambience.  Felt like a city park filled with candle adorned trees.<br><br>The entrees were good but the highlights were the starters.  Liz and I shared empanadas and conchinita pibil. The pibil was to die for and is a must try when you come here.  The complimentary sauces are amazing too. The Mexican version of guacamole and a habanero sauce that is whoa spicy.  Mexican guac is more like salsa verde with chunks of avocado. Amazing everywhere you find it.<br><br>Elizabeth chose the red snapper for dinner and I went with the bonelos of lamb with an amazing mole. OMG the mole was to die for.<br>They also brought out fresh tortillas that are freshly made by tortilla ladies near the table and fresh bread for the red snapper&#39;s tomato sauce.<br><br>For dessert we went with tres leches covered in a rum sauce poured over table side. Moist and duhlicious. Cappuccino was also excellent.<br><br>Overall a great dining experience.<br>Def recommend\n",
      "----\n",
      "Really great environment. It was really busy when we went so make reservations if you can. The courtyard atmosphere at night was lovely with candles. The food was pretty good. Honestly the fresh flour tortillas they gave with salsa were the highlight of the meal. They also had a grasshopper guacamole that was pretty good and for the brave! You can ask for and English menu!\n",
      "----\n",
      "Amazing place in the heart of downtown Mexico City. The menu dedicates a section to a different state cuisine every month (Chihuahua was featured in July). It also offers some great classics that go beyond the typical Mexican food that tourists might expect. Be adventurous and ask your server for a recommendation, you can&#39;t go wrong. If you like Mezcal, this is the place for you. They don&#39;t use the typical shot glass, but a jícara, a small, woody container, typically made from the fruit of the calabash tree. Expect great service and a beautiful presentation of the food.\n",
      "----\n",
      "Azul is a beautiful restaurant inside of the Downtown Hotel where I was staying. It&#39;s in an open air courtyard and it&#39;s lit with lots of sparkly lanterns. It&#39;s got a very whimsical and romantic atmosphere.<br><br>I had the squash blossom soup to start, which was nice but not amazing enough to recommend. The chicken enchiladas in mole sauce were excellent though, such unusual flavors, kind of sweet, mildly spicy, a bit licoricey... it&#39;s hard explain. It&#39;s also hard not to pick up the plate and lick it. But you know, I try to be a lady.<br><br>To end things I had a warm apple desert and some tea. The tea wasn&#39;t hot and the apple desert turned out to be tarte tatin (not that that&#39;s a bad thing).<br><br>Wasn&#39;t cool that I had to ask for the bill four times before I got it.\n",
      "----\n",
      "I was on vacation in Mexico City last month and had heard several people rave about Azul Historico so I was excited to try it. We called a couple of days in advance for a reservation right around brunch on a Saturday. We arrived on time and were seated immediately. Although the space is beautiful and the service is excellent, I felt the food left much to be desired. I&#39;d heard wonders about their enchiladas, but I wasn&#39;t really impressed. We tried the ENCHILADAS DE MOLE NEGRO OAXAQUEÑO, which were just okay and the ENCHILADAS SUIZAS, which were also just okay. I had a latte which was subpar. If you&#39;re looking for a pretty place to dine and aren&#39;t a major foodie, i&#39;d give it a try. Otherwise, i&#39;d skip it.\n",
      "----\n",
      "They blend the guacamole on a blender, they&#39;re racist. They serve white people first, their RUDE as hell.....but they blend the guacamole in a blender that&#39;s like almost a sin and insult to Mexican cusine. You&#39;ll find better Mexican food in Hawaii that&#39;s how bad it is. Go to the nearest street Mexican food stand you&#39;ll save money and the food will be tastier. Its scam of a &#34;Mexican&#34; restaurant. All I can say its pretty inside and that&#39;s about it.<br>Their waiters suffer from a well known collective Mexican pathology known as &#34;Malinchismo&#34; is a hatred of their own or brown skin and a reverence towards white, blonde blue eyed people.\n",
      "----\n",
      "Very good restaurant in Zocalo. I tried the cochinita pibill tacos and my girl had the vegetarian enchiladas. the ambiance was great and servers were very attentive. I will definitely be coming back soon on my next visit to Mexico City. We also tried a couple of their house mezcal cocktails which were really good.\n",
      "----\n",
      "My favorite brunch spot in centro histórico! The ambiance is amazing - 100 year old trees strung with string lights in their open courtyard where you can look up and see the sky. The place is super clean, very professional waiters, they have the tortillas being handmade right in the dining room. It is just such a cool space. <br><br>Aside from the great service and beautiful place, the food is absolutely fantastic. I&#39;ve only ever been for brunch, but every time I leave stuffed and happy! My favorite items here are absolutely the conchas and pan muerte - sweet bread, no not that kind, but actual sweet bread, it&#39;s like a roll with hardened sugared shell, and absolutely delicious, even better when eaten with the table side got chocolate made using Aztec tools, served in clay mugs, and with an array of flavors - I favor the vanilla, but the traditional has a hint of cinnamon which is super rich and delicious. The juices are all freshly squeezed right there at the bar, the green juice, the orange &amp; tangerine, and grapefruits were all delicious. <br><br>As for the &#34;Platos Fuertes&#34; or main dishes were perfectly cooked and packed with flavor. The quesadillas with &#34;corn fungus&#34; or huitilacoche, is absolute worth getting when in season. They actually let you choose what you want inside your quesadilla, it comes with three pieces and we choose the corn fungus, cheese, and baby zucchini flower - which has a beautiful earthy flavor and a eat texture. Another great plate was the vegetarian enchiladas which were served in a metal skillet, had a beautifully light tomato sauce, filled with strewed mushrooms, and topped with fresh lettuce and onion gave this rich plate a light and refreshing crunch!\n",
      "----\n",
      "A beautiful spot. Top notch food selections. The staff is 50/50 with great and friendly balanced by short and surly. Don&#39;t let that stop you. This is a romantic spot and the food was wonderful. From the very nice escamole presentation to the delicioso filet I loved my meal. My wife went veggie and could not have been happier. <br>Leave room for dessert. Seriously, they do not mess around!\n",
      "----\n",
      "Azul is a above average restaurant in the center of Mexico city. I wouldn&#39;t call it fine dining per se, but it is more expensive than your typical restaurant here. They offer more traditional meals with a Mexican flare, rather than Mexican cuisine. Their menu changes up to the chef&#39;s discretion. On this particular week they were featuring dishes with mango. Or as they called it. Festival de Mango. They had mango cocktails, dessert and foods with mango relish. I got one of the mango martinis, it was really good. I had a steak and I asked for medium, but it was more rare, a little too pink for my taste, but it took long so I just ate it. It was a really good cut so it was tender. <br><br>Service was 10 stars, our waiter was super polite, nice and attentive. Ambience was, even though the dinning room was located among a busy mall type area, quite intimate and romantic. All about the lighting. There were lots of candles and light all over, also live trees.<br><br> The food wasn&#39;t as great, but it was beautifully presented, great effort was put into quality and presentation. Everything else was perfect I would recommend this place.\n",
      "----\n",
      "This place is extremely overrated! Our hotel concierge recommended this place to us and since we did not have reservations, we had to wait 30 minutes for a table! It would have been worth the wait if at least the food was up to the fuss! Most of the menu was made of moles which didn&#39;t fit my taste! Guacamole was the worst I ever had and soup and salad were average! Service was terrible but only nice think about this place is ambience and location in a historic building! I think given the high  price and low quality food, this place does not worth the visit and there are much better options for authentic quality restaurants in The city!\n",
      "----\n",
      "20\n",
      "https://www.yelp.com/biz/azul-ciudad-de-méxico?start=20\n",
      "200\n",
      "Exquisite Mexican Cuisine at it&#39;s finest. The food was incredible, the atmosphere was breathtaking and the service was outstanding. I ordered for an appetizer the Guacamole with Grasshoppers which was actually pretty good.<br><br>The Enchiladas with Hibiscus flowers was a culinary delight. I also enjoyed a pineapple beer which is a must have with any meal. Also for dessert I ordered a hot chocolate. I love that they make the hot chocolate right in front of you!<br><br>This place is truly a one of a kind experience and really sets a high standard.<br><br>5 Stars All Day Everyday!\n",
      "----\n",
      "Beyond impressed w/ this restaurant. Talk about presentation!!!!! I was like a kid in the candy store. My pupils definitely dialated as I ate my food. The tortilla soup? Unreal. Food can&#39;t possibly taste that good. The staff was superb. Very attentive. Very professional. What an amazing experience. This restaurant is located in Downtown Mexico Hotel. Where downtown hostel is also located!!!! You will not regret it! I promise!\n",
      "----\n",
      "The wait to get a table was long so I recommend reservations if you can. The tortillas are made on premise and the trees with lights and the tile floor truly create a beautiful ambience. Food was wonderful.\n",
      "----\n",
      "I had the chicken enchiladas. They were good. The place is nice and the trees make for a fantastic experience.\n",
      "----\n",
      "We had huge expectations on the restaurant <br>But was just okay <br><br>Omelette :<br>The ratio of Eggs vs cheap Mexican sausage, bacon , Canadian bacon , was awful , also it&#39;s hard to understand wassup with the raw veggies for garnish ? How I suppose to eat a raw Brussel,cauliflower ? <br><br>When you enforce the no substitutions policy ,you better execute on point ! <br><br>Hibiscus enchiladas :<br>Salsa roja :great <br>Hibiscus ,after 3 bites u try all u need it to try <br>Hard to get the idea behind the raw cabbage <br><br>When the best thing is the coffee ( the pan de dulce is &#34;outsourced &#34; from a panadería around the corner ) <br><br>Panucho with cochinita Pibil<br>Not bad ,but small portion for the price <br>Maybe u should put it on the appetizer list ? <br><br>Habanero salsa and salsa  xalapa style were good\n",
      "----\n",
      "Very, very good. Excellent selection of 40+ mezcals, with lots of variety, which was a nice starter. Had traditional guacamole, excellent, and two plates of mole. One was very dark, described as &#34;ashy&#34; which we paired with lamb chops. Delicious! Our other main was a more typical dark brown mole with chicken, which was even better. Service was attentive and full menus in Spanish and English. Total with tip, including a glass of wine and a beer was about $70, and worth every penny.\n",
      "----\n",
      "Beutiful place ! authentic Grommet Mexican food,the service is great and the location is where all the colonial buildings are <br>The manager is very nice and all the servers are always reap to please you <br>Mr Alejandro Lopez and David coyotzi where my waitress\n",
      "----\n",
      "Whenever I asked someone for Mexico City recommendations, they would always say that Azul Histórico is a must visit. So naturally, my friends and I stopped by for dinner. Azul Histórico is in this beautiful open building with trees and lanterns. Such a romantic spot! There was a bit of a wait when we got there, so we happily wandered around before coming back.<br><br>The service here was incredible. So polite, so respectful, and so attentive. The food was beautifully presented. But for the prices, we were expecting more. We may have been spoiled by all of the previous nights in Polanco, but the portions here were tiny and the flavors good, but not mindblowing. If you want a nice dinner, Azul Histórico is a solid bet, but if you want to be wowed, I&#39;d try my luck elsewhere.\n",
      "----\n",
      "This is a rather special restaurant in the historic center of Mexico City. The trees with a multitude of sparkling lights create a magical atmosphere. They have a great selection of mezcals which are served in traditional carved gourds. The menu has a good choice of traditional Mexican food and our service was excellent.\n",
      "----\n",
      "One of my favorite restaurant when I visited Mexico City! Will definitely come back :)\n",
      "----\n",
      "Gorgeous restaurant in the heart of the historic part of the city. I recommend making reservations in advance. When we walked in on a holiday weekend, they quoted us 1.5 hr wait but they got us seated in 20 min! Our group ordered 3 different types of mole, the tortilla soup, and a salad with figs, apples, and hibiscus. They also served us chips and salsa and freshly made tortillas from three different types of corn. Our waiter recommended the Guacamole Único, but I wouldn&#39;t suggest it. There was little avocado and a lot of cheese. It was also a pretty small portion for four people.\n",
      "----\n",
      "We happened upon this somewhat by chance. Our tour guide could not get us into one of the more traditional spots in the historic center (1-hour wait). He had been here before so it wasn&#39;t a total leap of faith.<br><br>It is about a block off the square on the ground floor (with another restaurant) of a few story, high-end, small boutique shopping mall. Tourist focused but we saw a lot of locals. A very modern and well lit courtyard (blue lights while we were there). <br><br>As it was lunch - it quickly filled up and was lively but the noise was not overpowering. They&#39;ve got a separate English menu available. <br><br>The food was very good! All four of us had different items (unfortunately I did not note our picks). It was Oaxaca month (the regional menus change regularly) and two of us chose from those offerings. Another reviewer described the food as &#34;Mexican flare&#34; - that is a good description.<br><br>Service was good. <br><br>The food isn&#39;t memorable, but it was well presented and served. I would recommend this place for a casual and decent (and relatively inexpensive) choice in this part of town.<br><br>Damages for 4 with tip was USD125.<br><br>Food       3/5<br>Service    5/5<br>Value       4/5<br>Décor      4/5<br>Cleanliness    5/5<br>Noise       3/5\n",
      "----\n",
      "This was our first meal in CDMX and an amazing experience. The decor here is just lovely and relaxing and sets an awesome tone. The service is friendly and amazing. While this is definitely a more expensive place, it compares quite reasonably in USD. There aren&#39;t too many vegetarian options but I was able to ask the servers what they recommended and they were really accommodating, so I ended up having a super delicious meal. At the beginning of the meal they brought a small assortment of little pickles and olives in a super cute bowl. Drinks were great, we tried the mojito and sangria. We split the pear salad to start which was delicious and beautifully served. My vegetarian enchiladas were super delicious and had lots of yummy vegetables, and my boyfriend liked the beef dish he ordered as well, especially with the beautiful handmade tortillas it came with, that even had designs. Definitely be sure to visit here while in CDMX.\n",
      "----\n",
      "Beautiful setting in a hotel courtyard lit by candlelight. Not too loud, but definitely lively. Certainly popular with tourists: they&#39;ve got a separate English menu available. <br><br>I had the manchamanteles, a mole made with ancho chile and pineapple, apple, pear, and plantain. Get it with the tender, slow-roasted duck. One of the best dishes I&#39;ve had in CDMX. <br><br>The guacamole to start was the only disappointment. Without the grasshoppers to give some texture, the avocado purée itself wasn&#39;t very flavorful and definitely wasn&#39;t memorable.\n",
      "----\n",
      "You can get a pain au chocolate as your bread...other than that, the food is pretty mediocre. My omelette was a cooked egg with cold ham and a few squares of cold cheese. It&#39;s very cute, pretty chilly and a lot of staff zooming around you. If you&#39;re starving, hit it up. Otherwise, I&#39;d hold off.\n",
      "----\n",
      "Charming little restaurant in the heart of Centro Histórico. The restaurant is on the first floor of an open building with trees inside, giving it a inside/outside type of vibe. You won&#39;t have to worry about getting cold because you&#39;ll have space heaters and blankets to warm you up! Nice touch!<br><br>Drinks: we tried the tamarind margaritas. Unique drink and tasty... though not sure they put any alcohol in it. Sometimes it&#39;s best to just stick with mezcal shots, and they have lots of options here if that&#39;s your jam. <br><br>Food: highly recommend the tortilla soup. Will be served in a hand painted queen bowl thing... not sure how to explain it but it&#39;s cool! Soup broth was thick and tomato-y with a delicious cream to give it even more flavor. Mui perfecto! We also got the guacamole ... it was just ok, too mashed up. Mains: i got the carne in the chipotle sauce, the sauce was delish and what gave this dish the extra kick. Sister got pescado tikin - very unique dish, flavors were balanced with fish, yam and tortillas. Whatever you do, ask for some handmade tortillas, so good you&#39;ll enjoy it with any dish. I&#39;ve also heard the mole is good but we didn&#39;t try it!<br><br>Finally shout out to our incredible waiter Jehu! He helped us choose just the right entrees and was a wonderful host! Always nice to top off a good meal with great service!\n",
      "----\n",
      "Wanted to take my wife somewhere special to celebrate our wedding anniversary and chose this place. This place is very special and really romantic! It is very conveniently located 2 blocks from El Zocalo and in beautiful Centro Historico. My wife loved the restaurant and location. <br><br>Decor-Amazing! Best part of restaurant is definitely the decor and ambiance. Large trees smack in the center of dining area with candles to provide lighting. Tables were a bit too close to each other, but still great. Large bar on side and in center of courtyard surrounded by shops. <br><br>Service-very good, not as good as Limosneros but still good. Waiters serving us were, good but honestly was I expecting it to be great. Didn&#39;t have reservations and were told we&#39;d have to wait 30 minutes, so we went up to hotel rooftop for drinks. That was awesome! Cool view and feel on rooftop with great vibes. <br><br>Food-very good. Started with pork tacos that were full of flavor that left us wanting more. Guac with grasshoppers were good, needed a bit more salt but very good. Tacos wrapped in banana leaves were tasty and left my wife very satisfied. Steak was perfectly cooked and well seasoned. <br><br>Tip-show up early and make it to hotel roof top for drinks, you&#39;ll enjoy the view.\n",
      "----\n",
      "First of all this is a quaint little place. The Mezcal selection is amazing and the service second to none. I was very impressed with the food and atmosphere. I ordered the Panuchos with Cochinita Pibil and was very good. I will definitely be back to taste other dishes.\n",
      "----\n",
      "Beautiful ambience, great tasting food. Seared Cod with brow butter and capers was delicious\n",
      "----\n",
      "Azul set the bar for the best duck mole in the city. I spent 10 days trying to best them and no one else came close!  Sit under the blue lit tree, enjoy mezcal and some of the best food in the city!\n",
      "----\n",
      "40\n",
      "https://www.yelp.com/biz/azul-ciudad-de-méxico?start=40\n",
      "200\n",
      "This restaurant has amazing ambiance and service. It is a lovely place and the food was very good. My teenage daughter enjoyed the guacamole and tacos. While the food is delicious, it is also expensive so be prepared to pay more to enjoy this restaurant.\n",
      "----\n",
      "I&#39;m not sure if we got the right dishes or not, but this place wasn&#39;t that good... The restaurant was located in a really popular area so the wait for a table for three was one and ahalf hours long. They said in 45 minutes come back to check on their table, and then once we checked in in 45 minutes they said come back in another 45. The vibe of the place is really nice and the plates and knives and bowls are all really cool, but the black mole was not for me. I don&#39;t know if it&#39;s specifically this place or black mole in general, but I did not even finish two of my four enchiladas.... That&#39;s saying something. Mom always taught me to finish all my food LOL what was really good is what my best friend God which was the tortilla soup. It was presented in a really cute way as well. All in all, we each had a cocktail, shared two appetizers, three entrées, and three desserts. All of this cost $120 USD this was our most expensive meal in Mexico and I don&#39;t think it was worth it... The best thing we had was the Tres leches cake, now that was great!! If I could have that for dessert every day, I would never get tired of it!\n",
      "----\n",
      "Walking by in the morning we just stopped by this place since it had an average of over 4 stars.  It is a building with many businesses including clothing stores a hotel and other restaurants including Azul Historico. <br>As you come in on the left side there is a lady making tortillas, she was dressed with traditional clothing.  She is behind a small panel where you can clearly see her.  Walking further the hostess is there to greet you and guide you to your seat.  The place has plenty of space and it feels much bigger since the ceiling is very high.  The plants around you make you feel that you are seating outside but you are inside.  And if you are cold there are heaters you can ask the server to turn on for you.  <br>Right away our server placed napkins on our laps and gave us the menu.  Also someone came around with a small cart offering mexican pastries. You have to try them, yummy.  anyway, w ordered the food and it did not feel like it took long for it to arrive. <br>We tried the Chocolatin, muletos, 2 green juices, american coffee, cappuccino, concha vainilla ,(will love it) enchiladas mole negro. <br>and all food tasted good. <br>If you are in the historic area feel free to stop by and at least check out their menu and the surrounding of the place. <br>I will definitely will stop by if I am in the neighborhood.\n",
      "----\n",
      "Absolutely stunning! You are transported to another world as you walk into the courtyard through the big wooden double doors. The arches of the building and the lighting from the trees look magical.<br><br>With this magic comes a long wait. For us, it was ~1 hour on a Saturday afternoon. But we were treated to some complimentary Corona and jamaica while waiting, which made everything better.<br><br>The price was rather expensive - our light late lunch for three with two alcoholic beverages (wine and mezcal) and one non-alcoholic beverage (coconut horchata) was almost $80 (USD).<br><br>We ordered one of those beautiful walnut sauce chile relleno. It was chilled and crunchy, light and delicate, far different from the soggy ones drenched in sauce that we&#39;re used to. It was refreshing (and also extremely pricey).<br><br>We had venison tartare to start. It wasn&#39;t as gamey as I expected it to be and the portion size was generous. We also ordered lechon tacos, which unfortunately fell apart because the tortilla wasn&#39;t that great. For me, Azul was more about the ambiance, service, and presentation than the flavors.\n",
      "----\n",
      "Azul was an underwhelming experience and I wouldn&#39;t recommend it with all of the culinary gems in CDMX. Located in the atrium area of a shopping center, Azul was quite crowded but we were able to get a table for two around 8 pm. They sat us in a table that was really close to the fire where they were cooking the tortillas, which was a little bit uncomfortable but not terrible. <br><br>The service was a little hasty, and they weren&#39;t that polite or patient with us. Azul was very busy during dinner time, but I would expect it to be more organized nonetheless. <br><br>The atmosphere is quaint. It&#39;s a little overwhelming because of all the shops and people walking by, but there are nice lights over the atrium where the restaurant is. <br><br>The food was good but not memorable. They served the tortilla soup in a doll bowl that lifted up for the soup. That was probably the best part of the meal. The enchiladas were decent but overall the portions were kind of small.\n",
      "----\n",
      "The food was good, the atmosphere was excellent, however the only reason they received 4 stars was because it was an hour wait and for that I would appreciate  a reason to wait that long. Will probably not be returning due to the amount of other restaurants that are nearby with less of a waiting time.\n",
      "----\n",
      "I cannot begin to describe how delicious and delightful this restaurant was for my first dinner in Mexico City. From the presentation to the explanation of the dishes, I was very much impressed with this culinary experience. I highly recommend!\n",
      "----\n",
      "I was trying to decide if I wanted to give this 2 or 3 stars, in the end some amazing food outweighed an . The restaurant is located in a central plaza surrounded by ridiculously expensive stores and (strangely) a hostel. The decor looks pretty cute but with trees and little candles everywhere. There was an overwhelming number of staff members working but somehow didn&#39;t work in tandem very well. Service was slow, we even got our drinks after our appetizers. The drinks were just ok and appetizers were pretty good, however, I could not get over how pretentious and fake the whole experience felt. The only thing that redeemed the restaurant was the absolutely incredible duck mole. Seared duck was stuffed into wontons and an incredible black mole sauce was poured over it all and blackberries were served on the side. It was rich, complex flavor and delicious. The whole meal cost a little over 100 USD and while that&#39;s completely reasonable for the US, there are much better restaurants in Mexico City for much better prices. If you absolutely love mole and duck then I think coming to the restaurant might be worth it, otherwise I&#39;d skip it.\n",
      "----\n",
      "I&#39;m back and the food is just as good as it was 9 months ago.  This is the 1 place that I go out my way to go enjoy a delicious meal at when I&#39;m in town.  <br><br>I was fortunate to be able to enjoy dinner vs the breakfast I had in the last review.   <br><br>If you try nothing else you must get the Caesar salad.  It is made by the last living person who was part of the making of the original Caesar salad.  <br><br>I followed that with pipián. What struck me was I didn&#39;t know The protein was liver. I didn&#39;t take the time to read the entire description because I like pipián.  The meat itself was very good.  Not the strong flavor of liver you get in the States.  I ordered it medium, it had the chew of a steak with a mild flavor of liver.  Very delicious.  <br><br>My waiter was kind enough to pair my meal with a very good wine that balanced it all out.  <br><br>I finished my meal with a cappuccino and went home with a happy stomach.\n",
      "----\n",
      "This was one of the most impressive restaurants I ate at while I was in Mexico.  The service is awesome, the food is surpurb and the coffee and desert were to die for. <br><br>I will be back in a month and this is one place that I am going to stop at again.\n",
      "----\n",
      "Fine Mexican cuisine dining. Good location near the Zocalo. Beautiful restaurant in a classical building. Delicious food and great service.\n",
      "----\n",
      "I have eaten at many places in San Francisco, western Italy, Cuba, and the Philippines and while I can&#39;t believe I&#39;m saying this: this is the best meal I&#39;ve ever had. The mezcal was perfect. The Legendario Mole Negro was a combination of spice and sweetness I had never experienced before. I don&#39;t even eat tortillas normally but I could not resist these with the mole. And to top it all off was a rich dessert of Tamalito de Chocolate. Beyond words. The food was enough to make memories but the ambiance, the lighting, the music, the decor, and the service took it all to another level. Beyond expectations.\n",
      "----\n",
      "We&#39;ve been to Mexico City several times and I&#39;m so sad to just discover this place but happy to know we will definitely be returning. The presentation of the tortilla soup was so unique and it was delicious. I had the tikin zik which was great, it just needed a bit more salsa. The mix with the banana was perfect. My husband had the enchiladas mole very delicious and feeling. I always get the sangria with vodka when In México city and this did not disappoint.\n",
      "----\n",
      "Best Chicken Tortilla Soup in Mexico City! Perhaps, the world. Magical setting. Amazing Mole. Wonderful dining experience.\n",
      "----\n",
      "Great lunch spot in the Centro part of the city. Set in a open ceiling court yard with small shops around. It has a bit if rustic elegance that is inviting.<br><br>The service is top notch and the food is well prepared. I wouldn&#39;t say it&#39;s a home cooked meal. It&#39;s more Chef &#34;technical&#34; cooking. There are some items the waiter will prepare table side, like the Mex hot chocolate drink. They froth it by hand using these wooden sticks. <br><br>The breakfast eggs are the best because they taste like real egg. They state that their eggs are Kosher but I don&#39;t care because they are good. <br><br>I&#39;m a fan of their food, service, and atmosphere. I will be back for sure!\n",
      "----\n",
      "So if you order drinks and send them back because they&#39;re made wrong they won&#39;t take it off the bill. Be warned, if they mess up you&#39;ll still pay for their mistakes. Horrible service, horrible attitude and rude staff all around. Avoid at all cost. Over priced and very disappointing all around.\n",
      "----\n",
      "This restaurant is magical. The aesthetics and the food are enough to make you want to keep ordering even after you&#39;re full. <br><br>There was about a one hour wait when I arrived just before sunset, so I looked around the shops that are upstairs from the restaurant while I was waiting;  I was impressed by the quality of all the products and the hospitality. <br><br>I ordered the ENSALADA DE PERA Y ROQUEFORT first, and it was splendid. The presentation was perfect and all of the ingredients come together to create a party of flavor on my tongue. For my main dish I ordered the ENCHILADAS DE JAMAICA ORGÁNICA, which are vegetarian enchiladas. The chef uses the flower, Jamaica, to stuff them, and they were delicious. The red sauce was probably the best sauce I&#39;ve ever had on enchiladas. Actually, these are the best enchiladas that I have ever tasted. <br><br>The staff are all so helpful, and they are all really nice. They really just want you to enjoy your time and your food. <br><br>I think it&#39;s safe to say that I love this place. <br><br>When all of my food was gone, I was so sad.\n",
      "----\n",
      "This place was amazing. Our first time to Mexico City and this was our favorite meal we had there. We found it by wandering around the city and pulling up the ratings on Yelp which were accurate. The service was great. The food was delicious. Had the salpicón to start and it was great!  Entrees were the cochinita and buñuelo de pato (duck) which were both delicious. Dessert was the chocolate tamale, so good for chocolate fans!  So glad we came and will be back if we&#39;re ever in Mexico City again. Loved the decor too.\n",
      "----\n",
      "Fantastico! This amazing and busy and so interesting restaurant is perfect for a business event or romantic dinner. Set in a courtyard under a unique canopy of trees and lights, Azul Historico delights both visitors and locals with a truly authentic and delicious menu. Service is excellent. Just excellent. It is a bit busy, and a bit crowded, but that adds to the experience and makes it more energetic and engaging. But whatever you do, please, please, please try the mole! Magnifico!\n",
      "----\n",
      "We came to this place on our last night in Mexico City for our anniversary.  We had high hopes and were very excited, enough to wait for the hour long wait.  The server was very nice at first, but he accidentally dropped a glass of tomato sauce all down the back of my fiancees shirt and pants.  He didn&#39;t seem at all apologetic,  and came over with some water and a napkin to try to clean it off.  There was BRIGHT RED TOMATO SAUCE all down the back of her WHITE shirt! We went to the bathroom to try to clean it but nothing worked,  so she had to sit through the entire meal with a stained,  wet shirt and stained,  wet pants.   Nonetheless,  we still tried to make the best of our last night in town and enjoyed most of the food we ordered.  We were absolutely shocked when the bill came and we noticed that they didn&#39;t take anything off for the cost of the clothing!  Assuming it was an oversight,  we spoke with the &#34;manager&#34; (we arent sure his exact title or role in the restaurant) and requested a discount for the price of the shirt.  He said that instead he would pay for the dry cleaning bill.  Um, no.  We are leaving early tomorrow morning for the airport for our flight home to the states. And even still- who would even suggest that?! Now I have to take time out of my week to go do dry cleaning? we have never experienced service like that.  He explained that they &#34;dont have a policy for things like this&#34;.  I imagine most restaurants dont have a &#34;what to do if a server spills red sauce all over a customer&#34; policy, but a simple discount for the price of the shirt would suffice. He then settled with taking off the cost of our margaritas.  I kid you not.  We own a restaurant in Louisiana,  and if this happened the customers would be getting free drinks AND a discount on their check. <br>We weren&#39;t looking for a free meal- its the principle that when you ruin someone&#39;s property you try to rectify it. We also tipped the waiter 20% still, as we understand it was an accident. Again, we simply wanted the price of the clothes reimbursed as they are now ruined (especially the shirt).  Previous reviews mention that they dont seem to put customers first and this is true.  So disappointed- and we still cant believe that just happened.\n",
      "----\n",
      "Beautiful restaurant in a wonderful location in Mexico City. The menu is interesting (fried grasshoppers), but also offers plenty of delicious options for the less adventurous.<br><br>Service was top notch and attentive. We did a mix of desserts for the table, which were exceptional.\n",
      "----\n",
      "60\n",
      "https://www.yelp.com/biz/azul-ciudad-de-méxico?start=60\n",
      "200\n",
      "I don&#39;t quite understand mole... I just don&#39;t think I enjoy it much because I felt my dinner more like someone poured dessert over it. It&#39;s a different kind of flavor profile than what I&#39;m used it. <br><br>I googled &#34;mole&#34; and it said most moles are made from chocolate and chilies. Please correct me if I&#39;m wrong. I felt that would make for a good dessert and not it drenched in my entree. Although my entree had it drizzle on it, so it was a good balance. I got the fried duck. My bf on the other hand, he got chicken enchiladas covered in mole, like a soup. He didn&#39;t enjoy it bc he felt it was melted unsweetened chocolate soup. <br><br>We also ordered the ceviche and pork tacos. The ceviche was like a tartare. And the pork tacos were amazing. I had the tamarind margarita and it was quite delicious. Not sure if there was alcohol in there bc tamarind does a great job masking the taste of alcohol. <br><br>I guess we just don&#39;t understand the concept of mole. And since it was our first time, we&#39;re not even sure if it was good or not. Even though it&#39;s our first time trying mole, we weren&#39;t wowed by the taste and flavors of it. We&#39;re used to Baja Mexican food (real Mexicans probably laugh at us for liking Baja Mexican food), but glad we gave mole a try though! And we&#39;ll probably try it again just to compare for next time and increase our palates for different cuisines.\n",
      "----\n",
      "You will definitely need a reservation here, or be prepared to wait a while, but it&#39;s totally worth it. The cochinta pibil was excellent and the duck bunuelos with mole is one of the best dishes I&#39;ve ever eaten in my life. The service was a little slow, but very professional and they were packed, so I understand. Will absolutely come back on another visit to CDMX.\n",
      "----\n",
      "The ambiance is amazing and the food is delicious. Highly recommend to check them out for a nice dinner if you are in the area.\n",
      "----\n",
      "Food is fresh and really tasty. Has English menu and servers also speak English. The ambiance is really nice. We went during the day, but I bet during the night it&#39;s even more beautiful. <br><br>The potions are small but again they are tasty. The pico de Gallo was amazing.<br><br>It&#39;s pricely but food is good.\n",
      "----\n",
      "WOW, this restaurant is beautiful and the food was amazing! The meats were tender and full of flavor, the tortillas came hot and soft, and the service was excellent.\n",
      "----\n",
      "Fantastic! Huge flavors! Attention to detail! Awesome service! They nailed everything about a great dining experience. The quality of the ingredients cannot be beat - you can even watch as they hand make the tortillas! The dining room is very open and airy giving it a spacious feeling, but at the same time you feel very taken care of. When back in this area of Mexico City, this will be a must stop at place.\n",
      "----\n",
      "We came here for a late night dinner and put our names down for a table of two. After an hour wait we noticed people that put in their names after us were being seating. We brought this up with the waitress who insisted no she put our names down and that there were still at least 15 tables ahead of us. A quick glance at the list showed she did not put is down. So rather than trying to fix the situation, she just pretended nothing was wrong.\n",
      "----\n",
      "We had the squash blossom enchiladas and the verde chiliqueles. Let me tell you...everything was amazing but the verde chiliqueles was the best I&#39;ve ever had. We went back a second time to get them again before we left town\n",
      "----\n",
      "This was perhaps the best meal of my trip to Mexico City. The restaurant is very beautiful on the inside and the staff are super friendly and attentive. We started with the guacamole which was super tasty, the grasshoppers were ground so it was perfect for someone who isn&#39;t a fan of the whole bug. For my main I went with the chochinita pibil which was super tasty. The pork was super tender and flavorful and all around a good meal. My girlfriend went for the mole enchiladas which was also very good. I barely got to have a bite before they were gone. The mole was rich and not too sweet, a great dish for sure. We had a couple copitas of mezcal which we enjoyed. Prices are on the higher end but not ridiculously high. With the lever of service and the quality of the food I think it was absolutely worth it.\n",
      "----\n",
      "I really like this place.  Great ambiance. Great food and great service.  I am surprised that this place is not on top of Mexico City&#39;s Best Restaurants.  We also went to Contramar, which was supposed to be highly rated but Azul is so much better.  When in Mexico City, I will be going back to this place.\n",
      "----\n",
      "We had breakfast and treated ourselves first to the hot chocolate made tableside. We couldn&#39;t distinguish much difference between the two flavors we ordered, but, oh well! My chilequiles were good and my husband raved about his dish, so much so that he wanted to come back here for dinner - this was his favorite meal while in Mexico City. Service was gracious and very attentive. The prices were a bit high. The interior was beautiful There were blue lights wrapped around the trees and the effect was stunning!\n",
      "----\n",
      "We stumbled on the place randomly,  even though they said siting will take almost an hour it felt like it&#39;s a good choice. <br>The cocktails were amazing,  the dishes were delicious and well served.  Even when the service personnel were not great in English they were kind and did everything to help us understand and enjoy our stay. <br>The only thing we were sorry about is not leaving room for desert.\n",
      "----\n",
      "Fab night out for dinner. Chill ambience,attentive staff, and delicious food! Would return again and again if I lived in CDMX!\n",
      "----\n",
      "Amazing atmosphere in a private setting! Great service and was amazed with their knowledge in various types of Mezcal on their tab. We ordered the Mole, as you know there are various types, I admit that this one was not to my liking, more on the sweeter side. The guacamole was decent. My families rice and tortillas were hard. I was in awe with the decor and service! Very memorable, however, do expect to pay more than your average meal. I honor the chefs flavor pallets, just not necessarily what we were expecting for traditional latin eats.\n",
      "----\n",
      "Stunning restaurant in Centro Historico with delicious molé and mezcal. The mezcal straight with sangrita chaser is delicious but not for everyone. I enjoyed it a lot. Everything we had was excellent. The reservations are by phone only which is annoying and they gave us a strange password over the phone which we were supposed to use upon arrival but didn&#39;t actually need. That said, I was able to call just a week before and got a Friday night reservation at 8pm. Highly recommend walking upstairs and around the whole complex as there are beautifully-designed nooks throughout. The restaurant is connected to a hotel and a sort of mall and there is a roof deck bar above too (you can take the elevator in the back left of the restaurant to the rooftop bar). This place is a total hotspot and very Instagram-friendly if that&#39;s your thing. The location is awesome too so give yourself some time to explore before and after dinner.\n",
      "----\n",
      "We did not have a good experience due to our waiter&#39;s behavior. We paid for an unfinished drink and left before ordering meals. The unapologetic waiter asked twice for a tip (propina). <br><br>We wish we had gone instead to the fish restaurant next door (Puntarena), in the same building.\n",
      "----\n",
      "This was a fantastic experience!  The service was fantastic! Some of the best I had in Mexico City.  The food was delicious and the mole... WOW! This was some of the best I&#39;ve had!  Their cocktails are delicious and refreshing.  I like the fact that the waiters know their menu so well that all the recommendations they offered were fantastic... and it wasn&#39;t like they were recommending just things, they actually asked us what we liked and from that they recommended both cocktails and the plates.  My only issue is the wait. Their wait is quite long at times and their queuing system is a little antiquated, writing things in a pad. I recommend making a reservation.  In essence, I highly recommend this place to anyone visiting the Mexico City area!\n",
      "----\n",
      "Came into Azul with my co-worker to have brunch and get some work done. As soon as you walk in, the red lights on the trees really capture your eye and the overall ambiance is very inviting and gives off a feeling of warmth. <br><br>The food was fantastic! I had huevos rancheros and my co-worker had the green chilaquiles. We also shared some quesadillas as an appetizer. Everything, even the sauces, were exquisite! <br><br>The service was top notch! Our servers, Jehu &amp; Angel, were always on top of everything and made sure we always had everything we needed. They also gave great recommendations! The restaurant has that &#34;high-end&#34; feel but without breaking the bank. I&#39;m really happy that we stepped in here for brunch! :)\n",
      "----\n",
      "Once you get over the somewhat blinding blue lights, the party can begin. First, the dishes! Every plate or bowl is hand made and gorgeous! <br>Fresh made tortillas. Do not miss the empanada for app. I had the sweet mole chicken for main (the &#34;tablecloth stainer&#34;), which was wonderful!<br>And the dessert! All were great, but the tress leches was simply divine!\n",
      "----\n",
      "Tried this restaurant for the first time and absolutely loved it! Ordered the guacamole with chapulines (grasshoppers) as an appetizer, which were delicious. As an entree I highly recommend the enchiladas de jamaica (hibiscus)-- they were exquisite! To finish I recommend the chocolate cake with Gorgonzola ice cream. The service was incredible and they have a great wine selection. Pretty pricey but totally worth it for those looking for innovative approaches to Mexican food-- you will not be disappointed!\n",
      "----\n",
      "80\n",
      "https://www.yelp.com/biz/azul-ciudad-de-méxico?start=80\n",
      "200\n",
      "Some of the best food I&#39;ve had locally. EXTREMELY good service, all staff was extremely attentive. Beautiful ambiance, I will definitely come back next time I&#39;m in Mexico City.\n",
      "----\n",
      "Azul has mine and my boyfriends heart. This restaurant is almost entirely the reason we return to Mexico. On our first trip there were four of us. One opting for the mole enchiladas, two of us indulging in mole duck breast, and the other getting veal. Oh my goodness. This meal will always and forever be one of my favorite meals of all time. We got the tres leches cake (please please do yourself a favor and get thus) we also got another chocolate based dish, which I can&#39;t recall the name of. But my boyfriend and I picked up the check for two entrees, a wonderful bottle of red wine, and a dessert for less than 100 dollars, for the best meal of our lives was cheap!! <br><br>The second meal we had here is pictured below, we had short ribs from the &#34;special menu&#34; and mole duck breast (again) and the tres leches cake for dessert as well as an orange sort of foam dish, I&#39;m sorry I can&#39;t recall the name. MUST stop here and dine while in Mexico, they can&#39;t and won&#39;t disappoint. <br><br>Also go upstairs to the truffle and chocolate store, Que Bo!! They have the most wonderful treats. A picture of the store is included as well!\n",
      "----\n",
      "One of the most stunning places to dine, anywhere in the world.  Check out the rooftop pool and bar, and the unusual wall in the Italian restaurant next door. Outstanding service and food. Huge menu changes all the time, draws from every part of Mexico.  Many unusual but always tasty items.\n",
      "----\n",
      "This was an excellent choice for our first trip to Mexico City.  I ordered the tortilla soup which was really delicious and served in a ceramic Katrina doll dish.  I wanted to keep the doll and you can actually buy them there for $100 I think.  Our meal was great and we would definitely come back again.\n",
      "----\n",
      "Cool vibe with good Mexican Food. Authentic &amp; fun! I highly recommend dining here in the evening. It&#39;s got a romantic feel.\n",
      "----\n",
      "My girl Lena and I ate here on our first night while visiting Mexico City two weeks ago. We were very, VERY impressed at the atmosphere, service, and quality of the food, especially compared to other restaurants in the immediate area. It&#39;s the ONLY place we were even able to find that had this same sort of atmosphere. It left the impression of being outside in a courtyard, but you actually have a roof over you. There are real candles hanging from the real trees that provide &#34;shade&#34; over the tables. <br>It&#39;s also amazing how low the cost of things is. We had a wonderful bottle  of wine from Spain, as well as an appetizer and we shared an entree for something like 35 dollars. <br>I don&#39;t remember the name of what we ate, but I can certainly suggest just about anything on that menu would be delicious!\n",
      "----\n",
      "Items Selected:<br>Hot and REALLY Hot Salsa Verde<br>Sangria<br>Housemade Fresh Tortillas<br>Chaya Empanadas with Edam Cheese with Pickled Red Onions<br>Squash Blossom Cream Soup with Fresh Cheese<br>Cazuelita de Escamoles with Epazote, Guacamole and Fresh Tortillas<br>Fried Duck Bunuelos with Oaxaca-style Mole<br>House Rice with Cashews, Sultana Raisins, Apricot and Pineapple<br>Venison Pipian Rojo de Yucatan with Achiote<br>Quail Pipian Verde de Atlixco with Cinnamon, Sana Leaf, Clove and Cumin<br>Guanabana Mousse with Sapodilla Plum Sauce<br>Nicuatole Zapoteco Corn Custard with Fresh Berry Sauce<br>Peanut Brittle or Chocolate with Bill<br><br>Now featuring three restaurants, the first opened nearly fifteen years ago and the most famous found inside a local-artist shopping center at Mexico City&#39;s historic downtown core, Azul from Chef Ricardo Munoz Zurita has sought since its inception to introduce the country&#39;s rich culinary history to the novice while also taking those familiar on a trip across time and space, the menu varying each month to embrace a different region or specialty.<br><br>Felt by some to be pricy and only suited for locals with money or visitors from elsewhere, the upscale dining area inside a renovated building dancing in candle light from hundreds of dangling votives above, reservations at Azul are available only by phone and designated by name as well as password, the phrase &#34;tacos de lechon&#34; given to a two-top for a 7:00pm seating just a week in advance, though arriving early was not a problem as the vacation plan was shuffled last minute.<br><br>Just steps away from several of the city&#39;s top attractions, and clearly a targeted venue for those attending the Ballet Folklórico that night, it was with seats taken near the partially-open kitchen that a menu of several pages was presented in Spanish as well as English, a significant language barrier nonetheless still causing an issue towards the meal&#39;s end when the waiter neglected to bring one of the requested Postres even though one in the party speaks fluent American-accented Spanish.<br><br>Without doubt a multicultural affair, everything from English to German and Japanese heard in conversation at tables nearby, it was after brief perusal of the choices that an order of eight items was requested, the staff first suggesting that the kitchen would be happy to divide each plate, but later agreeing to simply set everything at the table&#39;s center for sharing as the meal got started with glass of Sangria composed of Wine floating on Rice Water alongside some pretty intense Salsa meant to be enjoyed with Tortillas continuously being made by an elderly woman working to the right of the hostess&#39; stand.<br><br>Deciding to order a few Azul classics followed by seasonal items, the focus of March a wide variety of Pipianes made from Seeds and Nuts indigenous to Mexico, it was not long after ordering that two Empanadas were delivered beneath a blanket of red sauce and Onions, the filled pockets reflexively re-plated by the staff filled with well-aged Cheese high in salt content while the Squash Blossom Soup served simultaneously was slightly sweet and  very fragrant with a texture that was thick thanks to fortification with Queso Fresco and Cream.<br><br>Unable to resist the lure of a time-limited regional specialty at a place known for its sourcing, it was with approximately $10USD invested that a sizable bowl of Escamoles was delivered alongside Chef Zurita &#39;s famous Duck Confit Bunuelos, the flavor of the Ant Larvae harvested from Agave roots rich and nutty with a citrus zip added by Epazote actually quite pleasant when mixed with Avocado on a warm Tortilla while the crispy Fritters were rich and savory on their own, but all the moreso beneath a sidecar of jet-black Mole.<br><br>Trending fairly low in price considering the quality of food and service, all-in with tax and tip less than $85USD, entrees arrived in large portions easily shared amongst two or more along with a side each of fluffy Rice studded in Cashews and dried Fruits, the Yucatan-style Red Pipian perfumed with Achiote performing well atop Deer seared medium-rare while the crispy-skinned whole Quail with tender flesh beneath green Sauce would be well-suited to the American palate in late fall when menus across the nation focus on Pumpkin-spice everything.<br><br>Happy to see another regional specialty offered at dessert, the Pineapple-esque Guanabana turned into a flan-like slab topped with Whipped Cream in a pool of Plum Sauce, it was with the Eggnog Tres Leches forgotten that the meal ended in small cubes of Corn Custard beneath warm Berry Compote, the flavor primarily a non-descript sweetness with a texture like Gelatin that proved to be the meal&#39;s only low-point.\n",
      "----\n",
      "Beyond delicious, we tried mole negro, probably the most delicious food I have tasted in my life.<br>The chile en nogada was also delicious.<br>Beautiful decorations, great service. High mexican cuisine. Great service!\n",
      "----\n",
      "A magical beginning to our first night in Mexico City!  From a rainy, chilly night outside into a warm 17th century lush open air restaurant under a canopy of twinkling lights. Everything was decorated red, white, and green in honor of Mexico&#39;s Independence Day and the ambience was so so festive!<br><br>We started with homemade guacamole and fresh to order to corn tortillas which were both melt in your mouth deliciousness. The Mexican wine was perfect, an earthy concoction that brought out the best in everyone.:)<br><br>We had to try the star of the menu, the Chile en Nogada, a perfectly stuffed poblano pepper with pork and topped with a creme fraiche walnut sauce (both sweet and savory) and decorated with pomegranate seeds and cilantro in keeping with the color scheme. One of the most flavorful things I have ever had!<br><br>Enjoyed delicious mushroom enchiladas as well with a kick of mole, and then finished our meal with a chocolate tamale and made to order vanille hot chocolate. <br><br>A exquisite and extraordinary experience in every way. The stuff dreams are made of.\n",
      "----\n",
      "Food was cold, service was terrible. I think the kitchen and the service staff need to be better coordinated - they served some of us our appetizers first and some of us the main dish first and then some in our party didn&#39;t get their food at all.\n",
      "----\n",
      "This place is amazing! I loved the ambiance and the service. My husband and I had Escamoles for our appetizer, it was definitely interesting texture but very delicious. They also offer various types of Mezcal, wines and cocktails. I would love to come back whenever I fly back to Mexico City.\n",
      "----\n",
      "The chicken tortilla soup was pretty good, but the rest of our meals were something we just aren&#39;t used too. Too fancy for our liking, and the service was horrible.\n",
      "----\n",
      "Azul offers a great option for dinner in my favorite area of Mexico City.  Quaint setting in the courtyard of a hotel in the Centro Historico neighborhood of the city.  <br><br>I used my hotel (Sheraton) to make a reservation 30 minutes before dinner time to get on a &#34;wait list&#34; but was seated immediately on arrival. The restaurant was busy.  But service was attentive.<br><br>It helped that they have English versions of the menu.  I chose the tamale of chaya, that included chaya leaves and chiapaneco cheese, in tomato sauce.  This was followed by the enchilidas de mole negro, with black Oaxacan mole, stuffed with panela cheese.  The dessert I picked was the sour orange mousse, with OJ, candied orange, meringue and an almond crust.  My food looked freshly prepared (or heated) and was quite tasty ... in a Mexican food sort of way.<br><br>I will likely be back at Azul when I return to the city.  Fine dining for about US $30 is a good bargain.\n",
      "----\n",
      "I was sooo excited to finally eat at this place due to such great reviews. It was Tuesday 11am n I had the chilaquiles rojo with two fried eggs. It was not good at all. Literally it was tortillas with onions n mild, flavorless red sauce. The eggs were sunny side up, which I didn&#39;t expect. I thought it&#39;d be at least over easy. So with totally runny yoke n the white, my dish just became a mush. It had already started out bad when I had to ask for a cappuccino instead after the coffee came out completely watery. I think it was really insulting to think that serving coffee like that is ok, even if serving tourists. I&#39;ll just keep going back to Tacuba, I guess or just stick with street tacos.\n",
      "----\n",
      "The most beautiful romantic setting. Great service and our food was amazing. I fell in love with this place and hands down one of the best dates ever!\n",
      "----\n",
      "Delicious Meal (4.5 stars)<br><br>The outdoor patio looked really nice with hanging lights, and tucked away from the hussle and bustle from street traffic.<br>It was a quick 10 minute wait and we ordered tamarind margarita. <br>Delicious flavor. It seemed more fruity that tequila tasting, but with the glass half way empty, I could feel my head spinning, in a good way.<br>We started with star fish ceviche with avocado, and 2 cheese empanadas in tomato sauce.<br>Check out the photos.<br>The starters were delicious. <br>Time for a second tamarind margarita.<br>Our main plates were cheese and chicken enchiladas with mole sauce, and I got the fried turkey in wrapper with mole.<br>They were delicious, and the enchiladas were swimming in mole sauce, and luckily they gave us a spoon. Next time give me a straw.<br>Of course another tamarind margarita, and I wasn&#39;t driving back to the hotel.<br>We were too full for dessert, but needed to walk a few extra blocks before returning to the hotel.<br>Interestingly enough I do not miss the rice and beans that often come with dishes in most Los Angeles Mexican restaurants.\n",
      "----\n",
      "Beatiful place! Inside of downtown mexico hotel that had 3 restaurants each delightfully decorated. Azul has beautiful lamps  hanging from the trees and candle light. <br>Service very attentive and helpfully <br>Food- we ordered the cochinita pibil tostadas and the tamales from the appetizer and both were very good<br>Must have the mezcal cucumber margarita súper refreshing after a long walk at el centro.<br>I had a seasonal mango coconut shrimp it looked delicious but I wasn&#39;t very impressed.\n",
      "----\n",
      "Excellent creative and tasty restaurant <br>It is like traveling in Mexico with all ingredients, all meals, all differences<br>Having every month a special theme (ingredients or region from Mexico) <br>A bit expensive but worth to go and taste <br>Both at Condesa or DiwnTown are equal quality\n",
      "----\n",
      "Great ambience, with nice lights and music. Mostly patrons are mostly well-off locals. It is open air, so the pollution does have an impact. They do have menus in English. Cream soup of calabaz flower was tasty and unique, had little bit cheese or chilli, closest would be squash bisque. Ordered pork from Sonora special menu, was too salty, could eat about 2/3 using tortillas. Chocolate suave was good, like a Mexican version of lava cake.<br>Good selection of mezcal &amp; cocktails, they have a menu in English for that too.<br><br>2015: Last time, had a squid ink dish, which was amazing.\n",
      "----\n",
      "First time experience was great. Everything was excellent. The food and service were amazing. We love the space and enjoyed eating here. It was so good that we decided to go there again that service was horrible. Are they having Monday issues or they just didn&#39;t want to serve us. We were disappointed this time\n",
      "----\n",
      "100\n",
      "https://www.yelp.com/biz/azul-ciudad-de-méxico?start=100\n",
      "200\n",
      "Great ambience, food was impresionante... wow!!! Beed to look for Angel Ortega... he made your experience even better.<br>Try the cochinita pibil, or the sopa de tortilla,,, wow... venado (deer),   The hole nine yards!!!!<br>Tikus beeer, if you&#39;re for a good dark beer.. end your eveningwirh a carajillo and a naranja agria cake dessert.\n",
      "----\n",
      "Oh my goodness. So crazy good! I had guacamole with grasshoppers (yum!!--and don&#39;t worry they were crushed pretty small). And hibiscus enchiladas. Wow!! Everything was incredible.\n",
      "----\n",
      "Amazing ambiance, service, and FOOD.  Not a single course disappointed us- from the varied beer list to the empanadas appetizer. The cochanita pibil was one of the best things I&#39;ve ever eaten. We finished with the chocolate, but many other desserts were equally enticing. Don&#39;t skip this gem on your CDMX trip!\n",
      "----\n",
      "The atmosphere is hard to beat. The dining area is lit with candles hanging from tree branches in a nicely styled courtyard. The food was very good, portions are not too big. The garlic oil shrimp (San Rafael) was cooked nicely. Not overdone. I very much enjoyed the tortilla soup which was served in amazing ceramic Dia de Los Muertes woman. I want to buy a set (looking online)!\n",
      "----\n",
      "One of the most delicious experiences in Mexico City! We went early (7pm), and got a table for 3 without reservations. We all ordered the tortilla soup which was fantastic!! It was served in little tangine figurines.  Wonderful presentation. We each ordered different entrees and they were all amazing.<br>Everything about the meal was about presentation, texture, flavor....pleasing to both the eye and the palate.<br><br>Highly recommend and would definitely go back.\n",
      "----\n",
      "Super magical and exquisite. Food is delicious, splurge here if you can. This was a great dining experience\n",
      "----\n",
      "The service and effort put into the presentation of the incredible dishes here is a sight to see and experience. We had the special Chiles en Nogada, a very special traditional dish dating back to Mexican Independence in 1821. It was a real treat. There are so many items on the regular menu I&#39;d love to try. There are mushroom enchiladas and squash blossom soup and much more. They have traditional Mexican cuisine and plenty of vegetarian and vegan options. Worth making a reservation ahead of time. They book up fast.\n",
      "----\n",
      "This is one of our favorite restaurants in Mexico City! The food is superb! Great service, beautiful ambiance, modern &amp; in the middle of centro histórico! Would definitely be back!!\n",
      "----\n",
      "Throughout my trip to Mexico City I would ask people where should we go to ea? What restaurant should we not miss? Whether they be Uber drivers, hotel staff, or locals we met along the way, they all agreed that Azul Historico was the place to be. With that level of recommendation, we had to go!<br><br>There was an hour wait, which should surprise no one. We spent our time looking through the shops that line the restaurant and got a drink at the bar upstairs. (The bar is not associated with the restaurant, just happens to be near it.) Finally we were seated. <br><br>We were immediately asked if we would like to start with a shot of high quality mezcal in a small shell. We took it! Mezcal seems to be the thing to drink here, after all. It was a delicious and one-of-a-kind way to start. We then ordered tortilla soup, which was presented in a beautiful calavera (skull woman) bowl and a golden spoon. The soup was rich and creamy with a bit of what seemed like dab of spicy jelly and sour cream. We also ate a classic caesar salad and mushroom enchiladas in a mole sauce. Both dishes were wonderful and came out with the highest level of presentation. <br><br>The last element I would like to mention about this restaurant is the ambiance. You are in a covered plaza with trees spiraling between the tables, lit candles hanging from branches. The trees are covered in blue lights -- hence the name. The servers are so very polite and helpful. Everything about this place was spot on. If I head back to the city, I will absolutely be stopping by again.\n",
      "----\n",
      "I had the Manchamanteles mole with chicken breast and my friend had the enchiladas de jamaica organica (hibiscus enchiladas).  SO many complex layers of flavors.  SO delicious.\n",
      "----\n",
      "This restaurant was utterly disappointing.  The ambiance was the only thing I really enjoyed.  No question, it is a charming location.  The bathrooms are also clean, so that was a huge plus as well. The staff was friendly and attentive. I ordered the ceviche appetizer and the house tortilla soup. The other members of our group ordered the ceasar salad, red pipian with turkey, mole negro and yucatan tacos. The mole negro was delicious and the deliciousness ends there. My ceviche was NOT ceviche.  It was tasteless raw fish topped with under seasoned guacamole. That fish never touched a drop of citrus or anything else. My tortilla soup was weird. Most tortilla soups I have had consist of a beautiful chicken stock with onions, lime, cilantro and herbs. This soup base was thick pureed tomatoes with overcooked chicken and no cilantro or lime. It simply didn&#39;t taste homemade. The ceasar salad was a relatively flavorless,  the dressing consisted mostly of mayonnaise.  And there was no anchovy in it. The salad was a far cry from the original ceasar, invented at the Ceasar Hotel in Tijuana. The red pipian was served over bone-dry turkey and didn&#39;t have any heat. The Yucatan is home to habanero for crying out loud. This restaurant is named as one of the ten best in Mexico City, which I have a hard time believing after our experience. I know this review has been brutal, but a big reputation sets you up for big expectations. I&#39;d rather grab some tacos al pastor from the corner street vendor.\n",
      "----\n",
      "Great location, within walking distance of Centro&#39;s main attraction. The restaurant is set in a courtyard of a grand mansion.  We dined under the canopy of trees<br><br>The food choices were very interesting and very well prepared and presented.<br><br>We had the shrimp with peppian (pumpkin seed) sauce - deliciously served with rice.  We also really enjoyed ant larvae served with corn tortillas.<br><br>I highly recommend this oasis in Centro - Mexico City.\n",
      "----\n",
      "Nestled in the Downtown Hotel of Mexico City&#39;s Centro Historico, Azul resonates old world charm from the moment you step into the main room.   The colorful decorations adorn this historic building  and welcome you into a whimsical ambience.   <br><br>We started with the Cozuelito de Escamoles appetizer, a delicious, savory starter served with guacamole and corn tortillas.   Escamoles are edible ant larvae that have been consumed in Mexico City and surrounding areas since the time of the Aztecs. &#34;Insect caviar&#34; as it&#39;s commonly known by the locals, is a regional speciality that everyone should try at some point during their visit.    Escamoles have a nutty taste that goes well with a dollop of guacamole wrapped up in a tortilla.    <br><br>We then tried the Tamal de Frijol Negro, a black bean based tamale covered in a tangy red sauce.   Quite flavorful although I would have preferred a larger portion.    <br><br>We ended our meal with la Nogada, one of the most traditional dishes in Mexico.    The name is derived from the Spanish word &#34;nogal&#34; meaning walnut tree since the sauce is made of walnut cream.   A typical Nogada consists of a poblano chili pepper that&#39;s either stuffed with a savory or sweet &#34;picadillo,&#34; a filling of ground beef, nuts, and other ingredients.    Azul features la Nogada Mixta which offers both savory and sweet filling inside every pepper.   It&#39;s a great way to sample both fillings.     <br><br>Overall the food was outstanding, the margaritas well prepared and the ambience first rate.   Definitely a must do when in Mexico City!\n",
      "----\n",
      "We had breakfast, it was absolutely amazing, the atmosphere is very authentic and nice details. Their hot cocoa is the best I have ever had.\n",
      "----\n",
      "absolutely delicious. We went there for dinner after reading some positive reviews. The seasonal menu is Mango, so I ordered fish with Mango sauce. Soooo good and creative!!! Love it! The dessert is also on Mango cake and it&#39;s not disappointing. Overall, good environment and food.\n",
      "----\n",
      "My best dining experience in Mexico City was at this restaurant. It is classy, beautiful and has a nice ambiance. The food was amazing. I will go back the next time I visit Mexico City.\n",
      "----\n",
      "This place is clean, friendly service, deal for the price. I tried a tortilla soup and it was tasty, and the presentation was very original. This is a great place!\n",
      "----\n",
      "Really nice restaurant! My friends ( Mexicans) were talking about it days before they took me there . In the middle of a commercial plaza with a soft atmosphere ; lots of lights and attentive servers. Everything we got was tasty ( specially the mole and duck). If you like plates that look good , this is for you.\n",
      "----\n",
      "This establishment is worth the reservation! Azul Histórico was lovely at night, a great date spot for outoftowners! The menu was seasonal and the food quite solid.\n",
      "----\n",
      "We went for lunch.  The restaurant closes between 12 noon and 1:15pm or so, and the lady writing down your name on the list wasn&#39;t very nice.  But once you sit down be prepared to be rewarded with some of the most amazing flavors.  The location is pretty unique: offers a combination of al fresco seating and boutique shopping that makes for great people watching.  The service at the table was impeccable as well.  Prices are reasonable.\n",
      "----\n",
      "120\n",
      "https://www.yelp.com/biz/azul-ciudad-de-méxico?start=120\n",
      "200\n",
      "Beautiful restaurant, amazing food and service. <br><br>We came back not only for the food but for the Margaritas.  These are the best Margaritas by far.  We had Mango, Tamarind and coconut, yes coconut!!\n",
      "----\n",
      "The place is soooooooo beautiful and dreamy.<br>The food is great too.\n",
      "----\n",
      "Amazing Mexican food. I had a chile relleno and it was divine. Definitely creative cuisine here. The guacamole was outstanding as well as the entrée.<br><br>The hot chocolate options are excellent and it&#39;s prepared right at your table.<br><br>Quality food, great service, what else can I say. :)\n",
      "----\n",
      "First, amazing service. Very attentive group of waiters. A must have is the Guacamole con Chapulines. I had the short rib which was also amazing. A true experience.\n",
      "----\n",
      "First time at this restaurant! It was recommended by my friend in the states and it didn&#39;t disappoint! The presentation, the service and the food were on point. They even let us taste one of the meats before making our dinner decision. It&#39;s a must stop for sure!\n",
      "----\n",
      "This restaurant is AMAZING!! We visited twice on a recent trip to Mexico City. Firstly, the setting--beautiful courtyard seating under 100 year old laurel trees, with mood lighting hanging down from the branches, and little chic boutiques lining the corridors--just perfect! The table was set with beautiful plates and bowls with different hues of blue, befitting the name.<br><br>The service is very good too--we made reservations 2 weeks before our trip and when we arrived there was a table reserved with my name card on it! Loved it! The waiters are very friendly and knowledgeable, they recommended some great mezcals and tequilas to us. They also walked us through the vegetarian options on the menu in great detail. They made yummy cheese quesadillas for our kids, and it was not on the menu. <br><br>Which brings us to the food itself--mindblowing! Every dish we tasted was exceptional. After ordering, they bring out a basket of assorted home-made breads and salsa. The mezcal is served in little containers that are made from gourd shells carved and decorated, with orange segments sprinked with sal de gusanos (worm salt) as chasers--very tasty. The kids ordered horchata and hot chocolate--the horchata is so thick and delicious--they use a mixture of coconut milk and rice milk. And the hot chocolate is made table-side like all fine dining places in Mexico City. We ordered flor de calabaza (squash blossom) soup which was creamy and comforting. Our rellenos were amazing too, beautifully presented and one of them had jamaica (hibiscus) and beets as the stuffing. We visited during the chile relleno festival and were lucky to try 4 different kinds over the course of two meals.<br><br>For desserts we tried several things--tiramisu, flan, chocolate torta, and vanilla ice cream. All of them were very good, especially the tiramisu. I read somewhere that the chef thought there was no decent tiramisu in all of Mexico so he specially made this recipe for his restaurant. It&#39;s served cold in a beautiful ceramic pot.<br><br>Both the times, our meal was exceptional. I highly recommend getting reservations at least a week in advance. If you don&#39;t have reservations, try going for breakfast (before 11am) or between 3pm and 6pm (downtime between lunch and dinner) to easily get a table.\n",
      "----\n",
      "Would you like to dine under a canopy of trees surrounded by twinkly lights and candles in a 17th century building? Um...yes, yes, and yes! Azul is a magically romantic place to dine even though it&#39;s right in the hustle of Centro Historico. It&#39;s easy to miss, but it&#39;s right in between a Samsonite luggage store and a MAC makeup store or just map the Downtown Hotel. There are also other cute shops and boutiques in this building, so you can stroll around.<br><br>Food:<br>-House special black Oaxacan mole chicken enchiladas: If you&#39;re a fan of mole, you have to try Azul&#39;s signature mole. The sauce is on the sweet side as mole often is, but it wasn&#39;t overly sweet. They give you a spoon to eat it with because the sauce is that good! You can even order a side of their mole sauce. There is a good amount of chicken in the enchiladas, and the best part is that it was only about $8.50 USD! The only thing I would improve about this dish is its temperature since it was rather lukewarm instead of piping hot. <br>-Steak with chipotle sauce: I am not a huge steak person, but my husband ordered this so I took a bite. Oh man, that steak is buttery and they give you an extra serving of sauce too. Again, this dish was only about $11.50 USD--crazy, I know!<br>-Manchamanteles mole duck: This was the priciest dish at a whopping $15 USD...(insert sarcastic gasp)! I love duck, so this was my 2nd entree. Who&#39;s with me on ordering 2 entrees?! I didn&#39;t love this as much as I thought I would. The mole in this dish is different with a fruitier profile and it was just too sweet for me. The duck was also too tough for me, but for the price, it was still worth it in my opinion.<br><br>Service:<br>-They do have English speaking waiters and menus here--yay! My husband&#39;s steak was brought out too rare at first, and the waiter did not hesitate to bring another one out right away. In case you&#39;re wondering about its authenticity, this is famed chef Ricardo Munoz Zurita&#39;s 3rd restaurant after much success of his two other restaurants.\n",
      "----\n",
      "Delicious location amazing food fantastic staff, And GRASSHOPPER GUAC!  I don&#39;t know if it was the ambience or the perfectly recommended mezcal margarita, but I only have good things to say about this lovely place. It&#39;s just as beautiful as the pics and the mole comes in 2 levels of sweet/ hot. <br><br>If you don&#39;t make this a priority stop you don&#39;t love your foodie travel life lol\n",
      "----\n",
      "Of everything I ate, the empanadas were my favorite dish. I got the tortilla soup, which had a great presentation but a mild taste. I tried my friend&#39;s hibiscus enchiladas and they were also very tasty (an a very unique dish). <br>Seating here is great for a special night out - feels like you are outside in a courtyard under the stars (I&#39;m pretty sure there&#39;s a retractable roof for when it rains). Big Mezcal selection available.\n",
      "----\n",
      "I got the worst food poisoning of MY LIFE from this restaurant. I know that eating/drinking in Mexico has been known to cause stomach problems in visitors, but I&#39;ve NEVER had food poisoning as bad at this and I have visited (and lived) in Mexico for years.<br><br>For all the medical bills and years of illness I have battled since eating at this restaurant, it was certainly not worth it. I have a feeling it was the venison that I ate, but there&#39;s still no excuse for this restaurant&#39;s poor hygiene. My friend also became seriously ill after eating here (with me) on that same day, so we are POSITIVE Azul made us very sick. <br><br>You&#39;ve been warned.\n",
      "----\n",
      "What a great meal in a lovely romantic restaurant.  So blessed to stumble upon this restaurant with amazing attentive staff!\n",
      "----\n",
      "I&#39;m only giving this a 4 star due to service issues since our initial waiter decided not to be our waiter after the first 10 min of meeting us. He was so fast-paced that he seemed Impatient about waiting for us to decide what we wanted to order. Someone else brought our water which I asked not to be cold, no problem, he took the cold water bottle back and brought a lukewarm one 10 min later. None of them spoke English but we are in Mexico, not in America, so didn&#39;t expect them to. I can communicate minimally in Spanish so nbd right? I was totally wrong. I asked the second waiter what was the most popular dish and he mentioned two, we ordered both. One of them was an almond based mole. It was pretty good. The other was mole negro which was a little sweeter and tasted delicious with the soft chicken breast.\n",
      "----\n",
      "This place was my first meal when visiting CDMX. We had the grasshoppers and guacamole. Yum. The mole was exquisite​. The staff was​​ attentive to our every question. They allow you to taste their tequilas and mezcals. You can&#39;t go wrong.\n",
      "----\n",
      "My friend and I were out doing shopping when we stumbled upon this gem hidden inside yet another beautiful building in the historic district of Mexico City. Even though it was a busy time of the day, we were seated quickly at a table beneath a beautiful canopy of trees with candle light. The waiter brought a stand to hang our purses on and even brought a phone charger when my friend&#39;s phone battery was about to die.<br>We wanted guacamole, which comes with grasshoppers. We asked to have it without and they brought the grasshoppers on the side. Yuck! lol!<br>The food was excellent and so was the service. So good in fact that we had lunch here two days in a row.\n",
      "----\n",
      "Located close to the city center, this restaurant has a beautiful presentation with candles hanging from the trees and canopying the tables placed in the courtyard. This place is busy so either make a reservation or be prepared to wait for 30-45 mins. There are some art galleries and boutique shops around that you can visit while you wait for your table.<br><br>They have some great options in food all of which are Mexican by flavor. I don&#39;t recall the dish names but will post some pictures.<br><br>Their tamarind margarita is good and the soup with a flower is also special. I would rate this place on the expensive side with about $600-800 pesos for one drink, soup, appetizer and main course meal. But definitely worth the visit.\n",
      "----\n",
      "Best meal in Mexico City! From start to finish. Excellent service, beautiful restaurant and an amazing meal!!  Looking for a vegan option can sometimes be a challenge, but there were a few vegetarian options that were easily made vegan. From cocktails to dessert, everything was delicious.  Our waiter was very friendly and so helpful. Could not have asked for more!\n",
      "----\n",
      "Excellent place. We got in to Mexico City about 2pm &amp; our hotel recommended this place. I was not disappointed.  I think the girl in the Hotel who recommended this place wants to taken here on a date. Would be a good idea if you&#39;re dating. Wonderful decore, great staff &amp; great food. If you order the Tortilla soup, you get a gold spoon to eat it with. My only issue is the mole sauce did not agree with me. Personal tasks issue.\n",
      "----\n",
      "Super cute place to eat in the heart of downtown. Extensive food and drink menu. Tried the ceviche and the cochinita tortilla and loved both! Especially the cochinita tortilla. They were both under the starter menu. I recommend you try the mezcal as well, very good!\n",
      "----\n",
      "Long day of exploring el centro ahead of us so we came in a little after 9 just as they opened. Beautiful decour and attentive service, my only complaint is that we weren&#39;t able to come back for dinner. We ordered a few pastries and coffees for breakfast. <br><br>I recommend taking the time to walk around, explore the shops in the buildings and checking out the staircase and murals, as well as the antique elevator. Next doors grass wall is something I&#39;ve never seen before but loved. Azul historico is something special.\n",
      "----\n",
      "This place gets 5 stars alone for ambience. It is gorgeous! The restaurant is situated in a courtyard inside a beautiful hotel with arches and trees, and so much charm. I was in town visiting a friend, and we came here for Saturday brunch (no reservations!). The vanilla conchas (Mexican pastry/sweet bread) were heavenly - the waiters come around with a pastry basket in the beginning. I fell in love with conchas here...they set the bar high. And of course, I love Mexican cappuccinos because of the sprinkling of cinnamon (that concha and cinnamon were so yummy together). <br><br>For my entree, I ordered the chilaquiles with fried eggs - I love chilaquiles and while these were good, they weren&#39;t amazing per say. But still, I thoroughly enjoyed the overall experience - the service, the setting, the company ;) The meal was quite reasonable. I would definitely return on a future visit.\n",
      "----\n",
      "140\n",
      "https://www.yelp.com/biz/azul-ciudad-de-méxico?start=140\n",
      "200\n",
      "Good was great. I had not had most of the things on the menu. Waiter was nice enough to have us sample as we ordered. The ant eggs were amazing! I hope we can make it back here sometime again\n",
      "----\n",
      "A great selection of regional foods throughout Mexico is offered at this restaurant. We started our meal with the Grasshopper Guacamole which to my delight was delicious. For dinner I chose the Veggie Tamales which also received an outstanding mark from me. I washed down my Dinner with the Agua de Aguacate which was to die for. I highly recommend this place if you are in the Zocalo area. I also recommend making reservations to avoid a wait.\n",
      "----\n",
      "The atmosphere of this restaurant is warm. I ordered a bass fillet, which tasted good. I like the side rice the best because it mixed with raisin. Sweet and tasty.<br><br>It is better to make reservation in advance  because this place is popular.\n",
      "----\n",
      "The best thing is the environment the food isn&#39;t really worth the price. We had the Rib Eye w/ Chilaquiles, Enchiladas de Jamaica and the Pastel de Queso. The worst part are the waiters. They are unprofessional, rude and don&#39;t provide great service. Our waiter stood right in front of us as he counted the money over and over for our tab doubting that the correct amount was there...<br><br>Never coming back. You are better off getting tacos on the street...\n",
      "----\n",
      "This place is an experience. Set in a courtyard with trees, candles and wood tables, you will impressed with the service and taste of this place. I had the sopa de tortilla and cochinita pibil. I felt like the cochinita was a bit salty but I know it&#39;s supposed to be on the rich side and I wish it had more of the vinigary red onion to cut that richness. Overall, another beautiful experience with my husband.\n",
      "----\n",
      "No complaints... amazing food, service and drinks.. def try the frozen tamarindo margarita\n",
      "----\n",
      "The guacamole was subpar, I think it was too smooth...The enchiladas con mole negro was OUT OF THIS WORLD AMAZING. They also had this special menu with a mango theme, the mango drink was so fresh and naturally sweet. But they forgot one of our dishes which was sad and by the end we had been waiting for so long we just paid and left.\n",
      "----\n",
      "Beautiful setting, mediocre food and AWFUL service. Head to Taco Bell when you get home and you&#39;ll have a better meal and a better experience.\n",
      "----\n",
      "Beautiful spot that three of us had a brunch meeting at. Just simply sitting back and staring at the surroundings is completely worthwhile!<br><br>Service was incredibly friendly. This resto is a bit more formal than what I typically enjoy, but it is not stuff at all. Really nice menus with great choices. All of our food was great from egg dishes to pastries and more traditional breakfasts with beans and cheese. The hot chocolate was incredibly rich and delicious as well. <br><br>I bet it is super nice at night as well although I really enjoyed seeing the space in the daylight! Definitely worth a visit.\n",
      "----\n",
      "Loved this place. Very charming and great food. I ordered a vegetarian meal and my husband a shrimp dish--both were delicious. The dessert--Tiramisu--was very tasty as well. Only one observation. We arrived around 9pm on Sunday and were told that there is an hour long wait. We almost turned away but then decided to wait. We got our table in only 5 minutes.\n",
      "----\n",
      "We ordered the pear salad, ceviche as starters, broth rice with seafood and enchiladas as main dishes. All were pretty good. The servers were very attentive. The only downside is, the blue light in the night was overwhelming and hard to take photos if you are an avid instagram-er lol.\n",
      "----\n",
      "Food was delicious. The mole legendario was very good and the tortilla soup (their specialty) was the best tortilla soup I&#39;ve had. The only reason I didn&#39;t give them a 5 star is because it is not a kid friendly restaurant. Food options for kids are very limited, we had a very difficult time finding something for them to eat. But the service is by far the best we&#39;ve had during our stay. Server was willing to bring us samples of food to taste. Their mango martini was  and their cucumber martini was very good as well.  Will definitely be back :)\n",
      "----\n",
      "While visiting Mexico City for a couple days and eating at lots of delicious food stalls around the city, we decided to splurge a little. And when I say splurge, I mean like $50 for an appetizer, drink, entree, and dessert. First off, we arrived on a weekday and didn&#39;t have a reservation. There was no wait at all. But I would recommend you get one especially if it&#39;s a weekend. It looks like a place that would be busy on a weekend night.  Also, the restaurant is gorgeous. I could not stop looking around for the entire meal. The service was impeccable. Our waiter was never too far away and always brought things before I even asked.  For the food, I started off with the tortilla soup.  The presentation of the soup was amazing. It came in a blue and white calavera container that was breathtaking. The soup was delicious and creamy. I then had the black mole enchiladas. Again, another amazing dish.  I finished with a flan that was decadent to say the least. I had a refreshing tamarindo margarita and a peanut drink. Both were extremely delicious. I would highly recommend his place and look forward to returning to CDMX and eating here again.\n",
      "----\n",
      "Decent place for a meal, only wish it wasn&#39;t such a tourist trap. <br><br>If you come here, definitely try the tortilla soup.\n",
      "----\n",
      "I was trying to give it a 10 but they only have 5. The food is great! the drinks are great! the ambiance is great!.... BUT THE SERVICE IS AMZING!!!!!!\n",
      "----\n",
      "First, this place is beautiful. It is in the courtyard of a old mansion that has been turned into a multi-purpose place (hotel, shops, restaurant). <br>The food was excellent! I had a zucchini + corn soup that was amazing. When they set it in front of me you could smell it right away. I practically licked the bowl. I had a fish dish with a green pumpkin seed sauce. It was phenomenal. Again, I was pretty much licking the remaining sauce of my plate it was so good. Husband had a different fish with a tomato based sauce that was also incredible. It was so flavorful. Overall a really wonderful meal!\n",
      "----\n",
      "There are many branches. But the one in the center has a great location with amazing ambience. The food is really good. There is also a rooftop bar with a view to the historic area of the city.\n",
      "----\n",
      "We came here on a recommendation from a colleague after he reminded my husband over 5 times, &#39;you have to try Azul Historico!&#39; The place is gorgeous, every little detail is considered from the plates, to the gourd cups where they serve the mezcal. It&#39;s indoors with tiny teacup candles flickering in the chandeliers. And there a so many trees! I felt fancy eating the beautifully crafted tiny foods. Ambiance: +<br>Attentive servers. +<br>And I guess if you come here, you come here for the ambiance, eh? Well, we shoulda thought harder about that because we honestly prefer tasty and reasonably priced to beautiful, tiny, so-so taste and overpriced. <br><br>Drinks: <br>2 beers...meh...they were fine, low on alcohol content high on price <br>1 mezcal with oranges and chili powder pretty good..I mean...it&#39;s mezcal. It was smooth and the oranges were a nice chaser. Easy.<br><br>Entrees:<br>Tiny yet beautiful tuna dish: My husband ordered this and thought it was yummy. But boy was it tiny. To be fair, the waiter warned him. My husband must have thought small wasn&#39;t tiny because of the price.<br>Porkchop with lightly glazed/grilled white onions: super tender, nice size but not very flavorful. <br><br>Dessert:<br>2 Earl grey teas each served in beautiful little kettles on a thick slice of wood. The tea was kinda weak and I wasn&#39;t that impressed, but whatever.<br>Tiramasu: the best part of the night. This is where you&#39;re getting your 3rd star, Azul Historico. Not too rich with amazing cocoa powder and fresh cream. <br><br>Like I said...I won&#39;t be eating at anymore fancy Mexican cuisine restaurants. I don&#39;t feel like there&#39;s any reason to try and improve traditional dishes. I don&#39;t care how beautiful the building is. If I may have buyer&#39;s/diner&#39;s remorse after spending so much money....If I can enjoy authentic and delicious Mexican food at the taqueria down the street, I have no reason to keep trying these expensive places. Now, if I were rich...maybe I&#39;d keep going until I found something worth my money. But alas, I&#39;m just a lowly teacher who likes street food.\n",
      "----\n",
      "This place has amazing breakfast!! Had the chilaquiles rojo with 2 fried eggs and it hit the spot!! The green juice is a must try as well!!!\n",
      "----\n",
      "The food was awesome the service sucked for being a pricy restaurant. 3 stars cuz I finished my drink before the main dish came and no once was I offered if I needed another drink. The sad part the waiter was stand near our table BSing to another employee. We got more attention by the bus girl\n",
      "----\n",
      "160\n",
      "https://www.yelp.com/biz/azul-ciudad-de-méxico?start=160\n",
      "200\n",
      "I had a long layover in CDMX, so of course I went on the hunt for some good food. And boy did I find it!  I started with the Cochinita pibil appetizer, then had the Mole Negro, and finished with the Tres Leches. All were excellent. I also had the Margarita de coco (so fresh tasting!), and a few shots of mezcal. My waiter Jesus was awesome and brought me several tastes. A beautiful and tasty restaurant. I will return!\n",
      "----\n",
      "As promised by several friends, this place was a standout.  The server was efficient, knowledgeable and always around. Make sure you make reservations. We did it through our hotel concierge and when we arrived it didn&#39;t exist. So after a little push from my end, they accommodated us. I had the mango ceviche -- which if you&#39;re a mango lover like me you can&#39;t go wrong. As a main course I had the cochinito pibil, also solid. And as I write this I&#39;m waiting for dessert. Overall, a great experience. Here is a pic of my ceviche.\n",
      "----\n",
      "After numerous recommendations, I decided to try this place. Came here for dinner with two others.<br>The atmosphere is wonderful. It is a court yards with numerous votive candles. We wondered how they lit all of them in the trees. The music is pleasant. <br>We sat awhile waiting to order. We ordered drinks and water. <br>We started with splitting a bean tamale and the stuffed zucchini flowers. Both were good. The flowers come 3 to an order, delicious, but very small. The bean tomale  had a hint of spice. Both were a small but reasonable portion and tasty. <br>We finished our appetizers and we still had no drinks by this time, no water. and a waiter was no where to be found. <br>I had the shrimp with green pipian. It was incredible. I would get this again. <br>Overall the food here is fantastic. The atmosphere is idyllic. But the service was so bad it ruined the meal. Could have been a bad night for them. I wouldn&#39;t seek this place out but,  if someone else really wanted to go here I would return in hopes that the service was an anomaly.\n",
      "----\n",
      "I loved this place. The atmosphere is to die for and the food was delicious. Our group ordered heaps of Mole dishes and didn&#39;t love it so make sure you&#39;re into it before doubling down. We stayed next to the restaurant in Condesa but made the trip to Historic town because of the good vibes. Highly recommend!!\n",
      "----\n",
      "First of all, the place is absolutely gorgeous.  With the indoor trees and hanging lanterns, it has a magical feel to it.  Staff are friendly and all about the presentation, so everything is an event.  As some others have mentioned, the tortilla soup is a must, with the presentation being almost as good as the soup itself, including the presentation of the golden spoon for their &#34;queen of soups&#34;.   My friends and I all ordered different items, and none disappointed, including the desserts.   And while the prices may seem high for Mexico City, we had dinner for 3 including drinks and dessert and our total was only $85USD.\n",
      "----\n",
      "Food is really good, however the service is sooooo slow. My drink took 30 mins, my food another 30 mins, so ridiculous!\n",
      "----\n",
      "We went right toward the end of Nogada season and had mixed Nogada, tortilla soup and the chocolate tamale, all were exquisite. Even if you might not be a spicy food kind of person, the ingredients are mixed very tastefully and the result is this amazing burst of flavor in your mouth!<br><br>Don&#39;t forget to make a reservation if you are planning to go on the weekend. We went on a Thursday night and waited for about 20 minutes. The decor is brilliant and the service is amazing. Highly recommended.\n",
      "----\n",
      "Right in the center of the city this gem sits in the courtyard of a few buildings. The food was excellent. Had the sweet pork nogada. Very tasty. Quick and easy walk from major hotels. Very safe area.\n",
      "----\n",
      "Amazing atmosphere, really good food, great service. It&#39;s a nice, sit-down with a very cool &#34;outdoor&#34; feel because it&#39;s in an arboretum of sorts and has indoor trees and lights.  It&#39;s &#34;expensive&#34; for a meal via Mexico standards, which still means more than reasonable.  A very nice place without (too much) pretension and with very good food and a great mezcal menu.\n",
      "----\n",
      "A fabulous dinner experience in an old &#39;casona&#39; from the colonial period!  <br><br>From the seasonal Chiles en Nogada (served with a bow and with a sauce that includes jerez) to the mole negro and mezcal, the food presentations were impeccable.  Do not leave without ending your meal with a tres leches dessert (to share) and chocolate de agua, served tableside with many ingredients to choose from.  <br><br>The building has a mural by Lozano, a hotel and many shops that reflect the best of Mexican culture and tradition. They have valet parking too!\n",
      "----\n",
      "Great food by great chefs. The location is beautiful! I did feel service can be a little snobby but the quality of food made up for it. Had the Guacamole with Grillos and loved it! Grillos are grasshoppers!!! Lol\n",
      "----\n",
      "I had great expectations for a unique culinary experience based on reviews &amp; recommendations.   Unfortunately, the food was underwhelming, not innovative &amp; presentation dull.  The heirloom tomato salad had a great write up on the menu but did not present as advertised: quartered, under ripe tomatoes with a basic dressing &amp; one tiny token flower.  The pork tacos were very basic &amp; bland, rolled up with cheese &amp; not much else. Again presentation was unimaginative 4 rolled up tacos in banana leaves which I have seen many times before. One guest did enjoy the chicken mole. The service was poor, had to request things multiple times, the waiter was abrasive which necessitated my speaking with the manager twice.  There were only three in our party &amp; the restaurant was not full. So no excuse for poor service or poor behavior. <br>Only + the patio was beautifully lit with red lights which created a lovely atmosphere.\n",
      "----\n",
      "Service was poor &amp; the waiter was not polite.  I had to ask multiple times for cocktails ordered and the simple dinner ordehad high hope for food but was underwhelmed.\n",
      "----\n",
      "The atmosphere is worth the meal alone, it&#39;s absolutely beautiful. I had a cucumber margarita that has changed my life. I will never drink another boring plain margarita again, it was sublime. <br>The sawfish ceviche was wonderful and different with the combination of avocado and soy sauce. The mole is complex and delicious. If you have the means, do try it.\n",
      "----\n",
      "One of the best restaurants we went to in CDMX.  Cool vibe in the courtyard.  Excellent service.  Both the mole and the cochinita pibil were good.\n",
      "----\n",
      "Gorgeous restaurant with impeccable design down to the plates.  Sadly that&#39;s the only good thing I can say.  The absolute worst was the chile en nogada which the staff kept selling us on.  Do not get it!  It&#39;s pricey, cold and disgusting.  We also tried the mole enchilada and chocolate tamal...  we could not finish either.  Truly disappointing food for the most gorgeous restaurant.\n",
      "----\n",
      "I ate twice there. I had the mole negro with chicken, and the mole de ceniza, and I had also ordered the guacamole with chapolines. The mole negro had different levels of flavor to it, it was like I was having mole for the first time. I didn&#39;t know how to feel about it after the first bite, but as I was eating it it was an exploration for my taste buds. I really enjoyed it. <br><br>The mole de ceniza was served with some vegetables and a piece of steak. The steak was not good, the vegetables were the best part of the dish. The mole was tasty, but I felt like it was paired with the wrong protein. I ordered this mole because I had never heard about this type of mole. I didn&#39;t regret my choice because it&#39;s fun to have dishes that you will probably never/rarely encounter. <br><br>The guacamole with chopolines was good. I ordered it for curiosity purposes. It was acidic because of the lemon and a little salty in a good way. It&#39;s a bit nutty, but overall you really wouldn&#39;t be able to tell that you are eating chapolines. <br><br>The establishment is pretty for late night dinners, very romantic. It&#39;s steps from the street but feels like a little oasis. The staff is very friendly and helpful. They suggest reservations, but I always walked in and had no issue ever getting a table. It is high end, and it shows by the type of people that eat here. Business casual seems like the norm, unless your like me.\n",
      "----\n",
      "What a great place to eat!<br>It is not easy to find if you&#39;re looking for a big blue sign on the street. The restaurant is inside a hotel/boutique.<br>It is beautiful inside. It is actually outdoor dining, but covered by a canopy of birch (?) trees. <br>Ambience, good service, good food!<br>How ironic that I would experienced THE best Greek salad at a Mexican restaurant in Mexico City ;)<br>Hubby ordered the steak w/ yellow mole = Delish! <br>I took the waiter&#39;s recommendation and ordered the turkey in pumpkin seed sauce - it was just ok.   I probably should have known better than to order &#34;turkey&#34; as it&#39;s not my fav meat when deviating from my vegetarian diet.<br>Overall a wonderful experience for our tastebuds!<br><br>Oh!oh! And there is a hotel the 3rd level. Check it out! Really cute rooms!\n",
      "----\n",
      "I think this restaurant was over-hyped for us; we probably would have enjoyed it more if we had stumbled upon it. As it was, I was disappointed that the trees were not alit and found the service and food not great. I felt like we were a disappointment to the servers, as though we didn&#39;t order enough, so we were ignored. Our food came out and sat behind me on a tray for a good 5 minutes before someone put it on our table. And the food was just so-so. I had the mole enchiladas, which were tasty, but my boyfriend had a pork special with a unique mole sauce for $350 pesos and it was very tough, overcooked meat with sauce on it-- no tortillas or anything. We asked for tortillas and they never arrived. All in all, not a great experience and one of our least favorite restaurants in CDMX.\n",
      "----\n",
      "This restaurant is in the heart of Mexico City&#39;s historic district, it is an old beautiful building<br>July, August and September is Chiles en Nogada season so ordered with half salty and half sweet Nogada sauce<br>It was really great the meat with ground pork, pears, apples, pine nuts and spices, very good\n",
      "----\n",
      "Had a wonderful dinner at Azul. Setting is magical and the food delicious. We had the enchiladas mole and a fish dish with plantains and avocados. Truly outstanding. Service was attentive, and the margaritas were wonderful. Definitely highly recommend restaurant Azul.\n",
      "----\n",
      "180\n",
      "https://www.yelp.com/biz/azul-ciudad-de-méxico?start=180\n",
      "200\n",
      "Nearby the Mexican Supreme Court. It&#39;s inside quaint courtyard with surrounding trees and lights hanging all around. It&#39;s like something out of a movie. I had the chicken Pipian with green sauce. The chicken was very tender to my liking. The Pipian sauce was good, however this was my first time having it and for me it was lacking flavor. I also had a guayabano flavored margarita to pair and it was ok. I would definitely come back, but only because of the venue. I&#39;m giving it 3 stars because service was slow, they say is down forgot to give us napkins because they were to busy with the next party over of 8-12 people. They seemed important at least o think so because of our proximity to the Mexican Supreme Court. I feel if you are a paying customer customer service should be the same across the board. Thus the reason for my 3 stars.\n",
      "----\n",
      "Fairytale location, great food and atmosphere. Highly recommend for breakfast, lunch or dinner!\n",
      "----\n",
      "Gorgeous restaurant but just completely underwhelming. We walked away thinking whatever and we so looking forward to their chiles en Nogada which we more show (and price) than flavor. Service was poor for this level of restaurant and they are simply relying on their reputation....yes its gorgeous inside but there are SO many better places and for the money you will spend here you should expect great or excellent food....and you will likely be disappointed. We were and used to love this place.\n",
      "----\n",
      "This review is a few months late - we visited Mexico City at the end of March - but we had a chance to try Azul. The atmosphere is beautiful...lanterns hanging from tree branches, tables in an open courtyard...very whimsical and lively. The food was interesting in a good way. The chef is taking traditional and ancient recipes and doing modern interpretations. The result is beautiful looking dishes that are wonderful to eat. I do miss bountiful tortillas. Depending on the dish, tortillas may come with it, but they&#39;re a dainty portion.\n",
      "----\n",
      "Good restaurant.  <br>Good food from Tlaxcala State in Mexico.  <br>Good service.  <br>Good Saga artesian beer.  <br>Good atmosphere.  <br>Small restrooms. <br>Good tequila and mezcal selection.  <br>Good music.  <br><br>I recommend it for business dinner or couples dinner.  Yes I would return.\n",
      "----\n",
      "I would give this place 4-5 stars; however, the service wasn&#39;t so good.<br><br>Very cool restaurant located in a courtyard of a hotel/hostel in downtown Mexico City.  Great place for brunch.  Food was pretty good...however, it took awhile to come out and the service wasn&#39;t friendly at all.  Definitely need some work here.\n",
      "----\n",
      "I don&#39;t think this restaurant deserves the raving reviews it receives.  The food selection was interesting , with some items being quite good but other dishes were just unremarkable. There are better restaurants at a third of the price.<br><br>Particularly disappointing was the poor service.  Dishes were abruptly taken away from us or pushed in! I have seen much better service from more modest restaurants and at this price, would expect something much better.<br><br>The ambience itself is quite unique and frankly almost mystical. The dining are is set within a small colonial plaza, within living trees and twinkling lights. So really recommend coming at sunset, if nothing else to enjoy that! Also, there are several interesting stores in the small plaza itself.\n",
      "----\n",
      "This place is such a little gem! A few blocks from the Zocalo in the centro historico, nestled in between historic buildings you will find this place . I had the best Tamarindo margarita I never knew I needed as well as a very interesting mole which was on the sweet side. The chicken was perfectly cooked and the salsas were nice and spicy. It&#39;s in a really cute and romantic courtyard which makes you feel like you&#39;re in a Mexican soap opera surrounded by various shops. Interesting unisex type bathroom . Would def hit this place up again\n",
      "----\n",
      "I did not like the food... I do not know what is so special about this food... They say famous world chef and bla bla bla... But i wasnt impressed at all.<br>I also did not like the service\n",
      "----\n",
      "This place was great, we had to wait about 30 minutes for a table but well worth it. Had mole negro, crema de flor de calabaza soup, good caeser salad, huitlacoche crepe. Good cocktails. They were doing a special mushroom menu (I&#39;m allegic to mushrooms) that looked amazing.\n",
      "----\n",
      "Looked amazing,  but closed early so they didn&#39;t serve us and didn&#39;t care to make exception.\n",
      "----\n",
      "Don&#39;t order the rib eye... it&#39;s not like Flemmings!  No taste and thin.  The mole enchilada was small and cold but ok. The camarones enchiladas were delicious.  Mexican wine was good. Cesar Salad creamy and fattening.  It&#39;s a toss up. CDMX has such great restaurants.  This supposedly is one of them.  Give me a taco. Oh, the risotto was inventive!   Open your pallet? You  never know....\n",
      "----\n",
      "I saw that they were celebrating  the month of the chile rellano festival--I ventured in and ordered an Anaheim chile rellano with cheese--didn&#39;t get it-they ran out--so bottom line is--if you don&#39;t know the language very well--don&#39;t go there or they will fast talk you into something you don&#39;t want. No one could explain what happened--I&#39;ll never go back.\n",
      "----\n",
      "If you don&#39;t mind spending some extra money you have to visit this place when you&#39;re in mx city. High-end authentic Mexican food and more. You probably can&#39;t go wrong with anything on their menu. Service was extremely fast. I was never served a steak that fast. But I&#39;m sure that was partially due to the fact that it was a quiet night (it was a cold night, they have only outside seating).<br><br>Beware the portions are quite small though.\n",
      "----\n",
      "Pros: The atmosphere, china and service are outstanding. The place is beautiful. <br>Cons: If you&#39;re a tourist, it&#39;s more likely that you won&#39;t notice how expensive this place is. The flavor of the food is quite ordinary. The menu lacks options. The tortilla soup, although beautifully presented, is plain average. The pear salad is so scarce that resemble a plate with left overs. You&#39;re paying for the location and the props. Wouldn&#39;t come back.\n",
      "----\n",
      "Beautiful restaurant and excellent food!  We had the queso fundido, guacamole with chapulines, steak, Cochinita Pibil, Mole and enchilidas Oaxaqueñas and it was all delicious!  The desserts were unique and flavorful.  Be prepared for a hot chocolate experience, they have 11 flavors.  A bit pricier than the other restaurants, but worth the experience.\n",
      "----\n",
      "The ambiance is great. Gorgeous old building that has been beautifully restored. Lovely open-air atrium with trees and hanging lights.<br><br>Food is utterly mediocre. Completely bland. I definitely got the feeling that most of the people who eat here are scared of spices and perhaps confuse that with spiciness. My friends and I shared a couple appetizers and main courses and nothing was notable. Best thing I had was my sangria and the free coconut treat they give you with the bill.<br><br>Check it out if you&#39;re downtown and want a snack, I suppose. But I really wish I had gone to El Cardenal just down the street instead.\n",
      "----\n",
      "This place is located in a hotel, so look for the hotel entrance. The decor is very elegant and service is good. The tortilla soup came in this really cute &#34;Catalina&#34; doll that split into two pieces, the bowl and the doll, so presentation was on point. We also got the squash blossom soup which was flavorful but not overbearing. They also apparently had a pipian festival at the time we were there, which featured an additional menu of featured dishes that used pipian sauce!\n",
      "----\n",
      "Fantastic!  The service was impecable, the food was delicious, the flavors and seasonings evoked a pre-Colombian cuisine, the presentation was espectacular, innovative and unique!  The ambiance was elegant, beautiful!\n",
      "----\n",
      "Last summer my husband and I visited Mexico city and had a unforgettable 10-star dinner in this place. Not only the delicious food was distinguished remarkable, the customer service was EXCELLENT. We were served by the waiter Mr. Juan, he knows everything about the food and flavor in Azul, and gave us an exquisite food tasting experience. The arrangement of the flavor he presented us was a beautiful food ensemble that we could feel the inter-relation from dish to dish he recommended. We had never fell in love with food like this before and we tipped the highest % ever in our life. We lived in Houston,TX and Mr. Juan is the biggest reason we always want to take a flight back to Mexico City. He has a beautiful wife working in Azul too, they are a sweet and nice couple. Overall, 5-star food served without a doubt, and 10-star customer service in a 5-star place at a reasonable price. Everything happens here was just lifetime remembering.\n",
      "----\n",
      "200\n",
      "https://www.yelp.com/biz/azul-ciudad-de-méxico?start=200\n",
      "200\n",
      "Amazing!!! The staff was a bit difficult in the beginning but accommodating at the end. It&#39;s and an awkward place because it&#39;s in the middle of the plaza that gives you this sense of the food court but when you sit down it transport you to a different and more secluded atmosphere. The tamarindo margarita was delicious and wish oh could get in on the rocks. The duck with mole was tasty together but the duck by itself was very gamey. The dessert was okay. But the Garnachas blew my mind away! The pickled onion was fantastic! I would highly recommend.\n",
      "----\n",
      "Mole Enchiladas and Cochinita Pibil were excellent!  The Guacamole with fried grasshoppers was yummy!  I drank a cucumber martini that was just right!  Truly recommend it!\n",
      "----\n",
      "The place looks beautiful but that&#39;s it. There is an hour wait. The food wasn&#39;t as good as I expected. I ordered the rib eye w/ chilaquiles. The meat wasn&#39;t cooked well done like I had requested. The service was awful. When it was time to pay, the waiter picked up the tab and began counting it in front of my boyfriend and I. Then another waiter joined and began counting with him. They stood there counting over and over again. They kept staring at us. It was very rude. Not worth the wait or money.\n",
      "----\n",
      "Great spot way better then Pujol! The food was amazing and the staff was great.\n",
      "----\n",
      "I went here to have dinner on my birthday. I had the chile nogada and it was great! I think the best part of the visit is that my friends thanked the server for the evening and mentioned off hand that it was my birthday. The staff asked them to wait and brought out cake and a small gift. I think that was a very nice touch! The atmosphere was lovely and the food was fantastic!\n",
      "----\n",
      "I was going to the restaurant because of the pics of  the stuffed  peppers with pomegranates and some  other dishes, and each pic I show the waitress he was telling us its out of the menu. <br><br> their menu changes seasonally. <br><br>The place is really nice and really good to check it out. I didn&#39;t like the dishes I ordered but I can feel the ingredients seems fresh.<br><br>I really liked the flavor of the moro sauce its really nice but I feel this place. <br><br>I ordered the tamale and its really dry and tough. I wouldnt recommend it to any. <br><br>Thier location is really nice. <br><br>it&#39;s inside of a building where there are many restaurants and cafe shops and some other shops. <br><br>Ambience is 5 star<br>Service 4 star <br>Food 3 star<br>freshness 5 star\n",
      "----\n",
      "Fantastic mole negro, atmosphere and service. Lovely ambience and nice and quiet. Can&#39;t say enough good things about the restaurant.\n",
      "----\n",
      "The place is beautiful, and the service wonderful. We had a waiter who took us on a Mezcal tasting tour for about 40 minutes, and allowed us to try some of the rarest Mezcals out there. On to the food, their famous tortilla soup was yummy but not very exciting. We had a ceviche with an Asian twist and guacamole. It was tasty but a tad too salty, with the soy sauce overpowering the dish slightly. Then we had the mole enchiladas. The mole was interesting, not sure I liked it though. And finally we had the conchinita pibil which was dry and nothing exceptional at all.\n",
      "----\n",
      "Beautiful place and good food, good price for the hole experience\n",
      "----\n",
      "Great place for a leisurely, long night out to celebrate with friends and family. Excellent service, beautiful casona setting.\n",
      "----\n",
      "I&#39;ve had two delicious meals here. Service is fairly good, but can be a little unprofessional. <br><br>Recommended dishes: guacamole with grasshoppers, caldo tlalpeno, cochinita pibil, mushroom enchiladas, tortilla soup.\n",
      "----\n",
      "El lugar es maravilloso y con buena atención. La comida es de excelente calidad, no dejen pasar el mole, el guacamole con chapulines y el chicolate de sabores. Gran concepto con precio justo.\n",
      "----\n",
      "Totally delicious: went for breakfast and our family had the chilaquiles (rojos y verdes), the blue enchiladas, and fruit.  All dishes were amazing.  In addition, the building is beautiful with those high trees in the middle of the patio.\n",
      "----\n",
      "Good service and nice ambience.  Try the Chile en Nogada if in season. The Enchiladas con Jamaica were very good.  Many unusual choices on the menu, loved the creativity of the offerings.  Don&#39;t skip dessert!\n",
      "----\n",
      "This was my first restaurant experience in Mexico and it was absolutely perfect! The ambiance alone is a seller for this restaurant, but the food was just as good. Beautiful presentation, great flavors, and perfect serving sizes. Not to mention, the best margaritas I&#39;ve ever had! If I ever return, I will definitely be stopping here again!\n",
      "----\n",
      "The food here is upscale, Mexican food. The tortilla soup, cochinita tacos, and mexcal selection are great. They have excellent cocktails and a variety of margarita flavors. The food is good but the ambiance is great. It is tucked away in a building with art and fashion shops  so it is removed from the craziness of the Centro Historico. It is located in a courtyard and during the day the rooftop is open. There are candles hanging from the tree branches which makes for a very pretty atmosphere. Definitely love to come here when we have guests in town and are touring the Centro Historico.\n",
      "----\n",
      "Delicious mexican food with the ambience of the Zocalo. The Chile en Nogada (from Puebla) is the most special dish here, with three chile stuffings availible, two pork and one beef, and two Nogada sauces (salty and sweet). I had the shreaded pork chile, half with salty sause and half with sweet. The Nogada is made from Walnuts, and it is very light, yet rich with flavor. It is served at room temperature and it is the best dish I have had in Mexico City. I recommend the sweet Nogada sause. They also have the best Horchata con Coco agua. The Mole is also superb, and highly recommended. Lastly, the Tamalito de Frijoles appetizer is pretty good, and a unique kind of Tamale! They only take reservations 4 days  in advance. I didn&#39;t have a reservation and the wait time for me was 1 hour, and well worth it! My server Felipe was great!\n",
      "----\n",
      "I was excited to take a tourist here since online I could see the photos of the gorgeous ambiance. It is just as pretty in person. There is a doomed roof that lets in natural light and there are tea lights everywhere. We didn&#39;t have a reservation so we were sat next to a very loud machine making juices. The food and service was fine. Just fine. And if I was paying for &#34;fine&#34; that it would be good, but I paid for great. I have many issues with the menu. First, I understand the novelty of using something in season on the menu to make everything seem more fresh. Right now, it&#39;s mango. Mango is a potent flavor. Some love it, others hate it. One of my friends I went with is on the &#34;hate side&#34; or mangos, so needless to say, it was hard for her to find something she liked. I didn&#39;t like that should couldn&#39;t find a simple dish. When she asked the waiter if she could alter a dish to not have Mango, he said no. She settled with Caesar salad, but the dressing had a weird flavor like the anchovies weren&#39;t fresh, and it became way to fishy. I got a chicken with a mango salsa which was nice. My mom got beef. She asked for it to be cooked, as she doesn&#39;t like bloody meat. It came very rare, so she asked for it to be cooked longer. They came out 15 minutes later with a brand new piece of beef that was cooked the same exact way. Since she was too hungry and didn&#39;t want to send it back again, she ate the rest of my chicken and I ate the beef. My boyfriend got the duck, which was the only good thing I tried all night. Overall, it was a big disappointment. I guess that&#39;s what you get when a place relies on the decor more than the chef.\n",
      "----\n",
      "The most memorable thing about this restaurant (commonly known as Azul Historico, which can be a little confusing with Yelp, as there are a couple of Azul restaurants) is undoubtedly the setting, which is in the courtyard of a very old revitalized building that now includes a hotel among other things. Tall trees cover the entire area with dozens of fixtures with lit candles hanging from them. It&#39;s scenic, pretty, romantic and comforting among other things! It has a large selection of Mexcal and knowledgeable servers that can help you to choose one, learn about them and/or explore them. The food menu is even larger with lots of great options. Note that if Azul Condesa is on your radar (same chef/owner/restaurant group), the menus are nearly identical. Also note that while delicious, the vast majority of the items have either very rich sauces and/or are quite sweet, even notwithstanding the giant additional menu at the time of our visit that included mango in everything. The great meal and setting was marred by a service issue. Our initial server was great with English. I assume that he was assigned to us because we didn&#39;t speak Spanish and he seemed to be spread thin and another waiter who knew very little English seemed to take over after the ordering process, which was all well and good, except that getting the check was nearly impossible. As it is in Europe, it&#39;s pleasant that restaurants in this city don&#39;t rush you out, but we sat there for over 30 minutes with no drink, no food and no one checking in on us. Finally we flagged down our secondary waiting and asked for the check, which was made clear despite the language barrier. After another 15 minute wait with no check, a visit to find a manager, who was kind and reasonably apologetic (and spoke better English than most Americans). Despite the hiccup after our meal, I&#39;d still recommend this place. It&#39;s worth the trip, which is probably a 15+ minute drive from districts housing the larger hotels. The particular area seems to be an up and coming one that is being gentrified. The young manager explained to us that prior to the 1984 earthquake, the area was fairly upper class, but when many buildings were damaged then, much of the wealth in the area moved south of the city; and the area is now gaining popularity again. It&#39;s pleasant to walk around in and has a somewhat lively vibe, but there&#39;s not many bars and restaurants there just yet.\n",
      "----\n",
      "The food was delicious and the staff were super helpful. I found this place by walking by and was intrigued by the ambiance. I would definitely come here again. If it is the season for Chile en Nogas, you should order it, it will not disappoint. I would say this was my favorite meal in Mexico City.\n",
      "----\n",
      "220\n",
      "https://www.yelp.com/biz/azul-ciudad-de-méxico?start=220\n",
      "200\n",
      "Called this place trying to make a reservation. Not speaking English isn&#39;t a big deal, but hanging up on me twice just because you don&#39;t understand my language isn&#39;t cool. And you call yourself a fine dining restaurant.\n",
      "----\n",
      "Amazing, thoughtful, delicious food. Every bite was fantastic, and the portions were generous. We sampled some fantastic mezcal (loved amores) and the black mole was incomparable. I wouldn&#39;t miss this on any Mexico City trip!\n",
      "----\n",
      "Nice restaurant with great atmosphere and food is, as Yelp suggests with a 3 star review, &#34;A-OK.&#34; It is a super-pleasant place to have dinner, in that the interior courtyard of the building in which it is located is filled with candle-lit trees and open air. You&#39;re not too close to your neighboring tables, and they were accommodating of a few large groups the same evening we were there.<br><br>The food was fine-to-good, though nothing that blew us away. We ordered tamales (one chaya, one bean) that were just fine, though not made traditionally and a little under-flavored in my personal opinion. For main dishes, we had steak, mole enchiladas, and pipian blanco turkey, all of which were good. They have a nice wine/liquor list for pre or post-dinner drinks or coffees as well. The wine list was a little pricey but had a nice selection of Mexican wines.<br><br>The service was really great. There were some picky eaters in our group, and they were happy to check whether there were certain ingredients in the mole that one member of our party didn&#39;t like. They also brought us a sample so we could try it before ordering.<br><br>It seems to be a pretty trendy place, though not in a way that should make anyone feel uncomfortable to try out. It is worth having a reservation ahead of time - they fill up each evening, it seems. Definitely a nice experience, though I think that purely in terms of food, we did eat better dinners elsewhere.\n",
      "----\n",
      "Great restaurant with amazing food. Had the enchiladas with mole sauce and grilled fish. Mostly speak Spanish with exception of few but they did very well to overcome the barrier. Didn&#39;t give five stars only because service was a little slow (very good service though).\n",
      "----\n",
      "Not up to the expectations, been to many restaurants in different places( New York, Las Vegas, Los Angeles) and definitely will not recommend food. It was tasteless, chiles en nogada not good, for the price they charge you will expect a succulent meal instead you get something bland and tasteless. Will not recommend. Will not go back ever again.\n",
      "----\n",
      "This place was my favorite across the restaurants we visited on the trip. Tucked away in the middle of downtown, outdoor setting inside an impressive building with quaint shops. Really great vibe. Food and drinks were also delicious - best passion fruit margarita. Mole was also really good as was the cochinita.\n",
      "----\n",
      "When you go for fine dining and pay in that consideration you need really great food. The food here is between dull, ok and decent. I&#39;d happily eat the same meal I had there again, as long as someone else was paying. <br><br>Nothing was bad but everything was just a little less than it should have been. The &#39;famous&#39; (perhaps) mole is nice but lacking boldness and excitement. The meats just a bit dull rather than succulent. The desserts actually a bit naff.\n",
      "----\n",
      "The wonderful room and ambience (a forest with treetops as ceiling) sets the stage for innovative mexican dishes and a wonderful tamarind margarita. The mole dishes (steak) and interesting takes like the hibiscus enchilada are perfect for a mid-day meal or a dinner. Great ceviche and pretty much everything else\n",
      "----\n",
      "We had an absolutely delicious meal at this charming restaurant.  I had the guacamole with chapulines which was tart and savory with the exact right amount of spice.  I also had the cochinita pibil which was very flavorful, light and I wanted more!  The table bread was delicious, too.  The service as a little lacking in friendliness and they were slow to bring our change for the check.  Overall, a great dining experience and the best one we had in el D.F.\n",
      "----\n",
      "One of my favorite restaurants that I tried while in Mexico City. Loved the moles, and also really enjoyed the Cochinita Pibil, shredded pork in achiote served with freshly made blue corn tortillas, pickled onions, and delicious salsa. The courtyard setting is beautiful. Service was great the first time I went, and not as great the second time. It&#39;s higher-end food, but I thought the prices were quite reasonable. In dollars, each meal for two people was under $40 (food only, no beverages).\n",
      "----\n",
      "I had a terrific time at Azul. It was recommended by another patron at Pujol. We didn&#39;t have a reservation, but the hostess took my number and called me to let me know our table was ready about 40 minutes after we arrived (perfect amount of time to get a beer somewhere). Azul&#39;s ambiance is lively yet serene as the tables, under the night sky, surround trees dripping in candles. On every chair you&#39;ll find a red blanket if you happen to find yourself too cold and with out a jacket. Our server, Jesus, was very attentive and extremely helpful! We had lovely, fun banter which made the mood even livelier! He was funny, yet always remained professional. The mark of a great restaurant, for me, is not necessarily how incredible the food is  (which at Azul, it definitely was), but the service you receive from beginning until the end of your meal; Jesus was wonderful! It was my birthday and we ordered the Belgium chocolate cake which was incredible and beautifully decorated for my birthday. At that moment Jesus handed me a book the chef had written with recipes for salsa! That made the night even better. To top it all off you&#39;re in a great location and the building Azul resides in is beautiful! I had a wonderful experience at Azul and I will definitely be returning!\n",
      "----\n",
      "Breathtaking setting and fantastic food. A  wonderful, romantic environment. I personally loved the guacamole with crickets. Good wine selection, too!\n",
      "----\n",
      "240\n",
      "https://www.yelp.com/biz/azul-ciudad-de-méxico?start=240\n",
      "200\n",
      "260\n",
      "https://www.yelp.com/biz/azul-ciudad-de-méxico?start=260\n",
      "200\n",
      "280\n",
      "https://www.yelp.com/biz/azul-ciudad-de-méxico?start=280\n",
      "200\n"
     ]
    }
   ],
   "source": [
    "TextoInicio ='<span class=\"lemon--span__373c0__3997G raw__373c0__3rKqk\" lang=\"en\">'\n",
    "TextoFinal = '</span>'\n",
    "\n",
    "corpus = []\n",
    "\n",
    "for i in range(0,numeroreviews,20):\n",
    "    print (i)\n",
    "    string = 'https://www.yelp.com/biz/azul-ciudad-de-méxico?start='+str(i)\n",
    "    print(string)\n",
    "    response = requests.get(string)\n",
    "    print(response.status_code)\n",
    "    completeHTML = response.text\n",
    "    indexList = [(element.start(0), element.end(0)) for element in re.finditer(TextoInicio + '(.+?)' + TextoFinal, completeHTML)]\n",
    "\n",
    "    for index in indexList:\n",
    "        inf = index[0]\n",
    "        sup = index[1]\n",
    "\n",
    "        review = completeHTML[inf + len(TextoInicio): sup - len(TextoFinal)]\n",
    "        print(review)\n",
    "        print('----')\n",
    "        corpus.append(review)"
   ]
  },
  {
   "cell_type": "markdown",
   "metadata": {
    "colab_type": "text",
    "id": "kEJ9r0cG0fNA"
   },
   "source": [
    "Normalización del Corpus:"
   ]
  },
  {
   "cell_type": "code",
   "execution_count": 10,
   "metadata": {
    "colab": {},
    "colab_type": "code",
    "id": "SmpBRdmZynsJ"
   },
   "outputs": [],
   "source": [
    "allReviews = []\n",
    "for index, review in enumerate(corpus):\n",
    "    review = review.replace('<br>','')\n",
    "    review = review.replace('&#39;',\"'\")\n",
    "    review = review.replace(u'\\xa0',\" \")\n",
    "    review = review.lower()\n",
    "    review = review.rstrip('\\n')\n",
    "    allReviews.append(review)"
   ]
  },
  {
   "cell_type": "markdown",
   "metadata": {
    "colab_type": "text",
    "id": "JZdvBIgc0j26"
   },
   "source": [
    "Número de Reviews en el Corpus:"
   ]
  },
  {
   "cell_type": "code",
   "execution_count": 11,
   "metadata": {
    "colab": {
     "base_uri": "https://localhost:8080/",
     "height": 34
    },
    "colab_type": "code",
    "id": "FFjwtiFjyou9",
    "outputId": "fa9f7cc2-9bfb-4454-c630-df2bed093d09"
   },
   "outputs": [
    {
     "data": {
      "text/plain": [
       "234"
      ]
     },
     "execution_count": 11,
     "metadata": {
      "tags": []
     },
     "output_type": "execute_result"
    }
   ],
   "source": [
    "len(allReviews)"
   ]
  },
  {
   "cell_type": "markdown",
   "metadata": {
    "colab_type": "text",
    "id": "xr4QUsAn0m2f"
   },
   "source": [
    "### Sentiment Analysis"
   ]
  },
  {
   "cell_type": "code",
   "execution_count": 19,
   "metadata": {
    "colab": {},
    "colab_type": "code",
    "id": "HRxLLlKMy3OB"
   },
   "outputs": [],
   "source": [
    "from textblob import TextBlob\n",
    "\n",
    "polarities = []\n",
    "subjs = []\n",
    "label = []\n",
    "\n",
    "for review in allReviews:\n",
    "    sentimiento = TextBlob(review)\n",
    "    polarities.append(sentimiento.polarity)\n",
    "    subjs.append(sentimiento.subjectivity)\n",
    "\n",
    "    if (sentimiento.polarity > 0.0):\n",
    "        label.append('positivo')\n",
    "    elif (sentimiento.polarity < 0.0 ):\n",
    "        label.append('negativo')\n",
    "    else:\n",
    "        label.append('neutro')"
   ]
  },
  {
   "cell_type": "code",
   "execution_count": 13,
   "metadata": {
    "colab": {
     "base_uri": "https://localhost:8080/",
     "height": 195
    },
    "colab_type": "code",
    "id": "6-1p7ujMy6Xd",
    "outputId": "c752defb-7c1d-4133-acde-eae495d71654"
   },
   "outputs": [
    {
     "data": {
      "text/html": [
       "<div>\n",
       "<style scoped>\n",
       "    .dataframe tbody tr th:only-of-type {\n",
       "        vertical-align: middle;\n",
       "    }\n",
       "\n",
       "    .dataframe tbody tr th {\n",
       "        vertical-align: top;\n",
       "    }\n",
       "\n",
       "    .dataframe thead th {\n",
       "        text-align: right;\n",
       "    }\n",
       "</style>\n",
       "<table border=\"1\" class=\"dataframe\">\n",
       "  <thead>\n",
       "    <tr style=\"text-align: right;\">\n",
       "      <th></th>\n",
       "      <th>polaridad</th>\n",
       "      <th>subje</th>\n",
       "      <th>etiqueta</th>\n",
       "    </tr>\n",
       "  </thead>\n",
       "  <tbody>\n",
       "    <tr>\n",
       "      <th>0</th>\n",
       "      <td>0.271975</td>\n",
       "      <td>0.632679</td>\n",
       "      <td>positivo</td>\n",
       "    </tr>\n",
       "    <tr>\n",
       "      <th>1</th>\n",
       "      <td>0.101149</td>\n",
       "      <td>0.466034</td>\n",
       "      <td>positivo</td>\n",
       "    </tr>\n",
       "    <tr>\n",
       "      <th>2</th>\n",
       "      <td>0.288542</td>\n",
       "      <td>0.633333</td>\n",
       "      <td>positivo</td>\n",
       "    </tr>\n",
       "    <tr>\n",
       "      <th>3</th>\n",
       "      <td>0.459107</td>\n",
       "      <td>0.617232</td>\n",
       "      <td>positivo</td>\n",
       "    </tr>\n",
       "    <tr>\n",
       "      <th>4</th>\n",
       "      <td>0.410595</td>\n",
       "      <td>0.646667</td>\n",
       "      <td>positivo</td>\n",
       "    </tr>\n",
       "  </tbody>\n",
       "</table>\n",
       "</div>"
      ],
      "text/plain": [
       "   polaridad     subje  etiqueta\n",
       "0   0.271975  0.632679  positivo\n",
       "1   0.101149  0.466034  positivo\n",
       "2   0.288542  0.633333  positivo\n",
       "3   0.459107  0.617232  positivo\n",
       "4   0.410595  0.646667  positivo"
      ]
     },
     "execution_count": 13,
     "metadata": {
      "tags": []
     },
     "output_type": "execute_result"
    }
   ],
   "source": [
    "dataOut = pd.DataFrame({'polaridad':polarities,'subje':subjs,'etiqueta':label})\n",
    "dataOut.head()"
   ]
  },
  {
   "cell_type": "code",
   "execution_count": 21,
   "metadata": {
    "colab": {
     "base_uri": "https://localhost:8080/",
     "height": 84
    },
    "colab_type": "code",
    "id": "hJQNWh120Aem",
    "outputId": "d1bba8da-d86e-4f73-e8d9-5b4cf7c7db0d"
   },
   "outputs": [
    {
     "data": {
      "text/plain": [
       "positivo    220\n",
       "negativo     13\n",
       "neutro        1\n",
       "Name: etiqueta, dtype: int64"
      ]
     },
     "execution_count": 21,
     "metadata": {
      "tags": []
     },
     "output_type": "execute_result"
    }
   ],
   "source": [
    "dataOut.etiqueta.value_counts()"
   ]
  },
  {
   "cell_type": "code",
   "execution_count": 22,
   "metadata": {
    "colab": {
     "base_uri": "https://localhost:8080/",
     "height": 84
    },
    "colab_type": "code",
    "id": "9qNj5NwIz65O",
    "outputId": "683f34f6-10b5-49da-906d-a4c5bcf08cb3"
   },
   "outputs": [
    {
     "data": {
      "text/plain": [
       "positivo    0.940171\n",
       "negativo    0.055556\n",
       "neutro      0.004274\n",
       "Name: etiqueta, dtype: float64"
      ]
     },
     "execution_count": 22,
     "metadata": {
      "tags": []
     },
     "output_type": "execute_result"
    }
   ],
   "source": [
    "dataOut.etiqueta.value_counts()/len(dataOut)\n"
   ]
  },
  {
   "cell_type": "markdown",
   "metadata": {
    "colab_type": "text",
    "id": "Ya2VGRvC3gbT"
   },
   "source": [
    "### Gráfica Positivos y Negativos"
   ]
  },
  {
   "cell_type": "code",
   "execution_count": 35,
   "metadata": {
    "colab": {
     "base_uri": "https://localhost:8080/",
     "height": 248
    },
    "colab_type": "code",
    "id": "Hwobfg_s0FeJ",
    "outputId": "2476f25e-dccc-4136-c678-64693ff6ab19"
   },
   "outputs": [
    {
     "data": {
      "image/png": "[encoded data removed]",
      "text/plain": [
       "<Figure size 432x288 with 1 Axes>"
      ]
     },
     "metadata": {
      "tags": []
     },
     "output_type": "display_data"
    }
   ],
   "source": [
    "import matplotlib.pyplot as plt\n",
    "\n",
    "# Gráfica de Pie:\n",
    "labels = 'Positivos', 'Negativos'\n",
    "sizes = [dataOut.etiqueta.value_counts()[0], dataOut.etiqueta.value_counts()[1]]\n",
    "explode = (0, 0.3)  # separación de la segunda pieza del pie\n",
    "colors = ['gold', 'yellowgreen']\n",
    "\n",
    "fig1, ax1 = plt.subplots()\n",
    "ax1.pie(sizes, explode=explode, labels=labels, colors=colors, autopct='%1.1f%%',\n",
    "        shadow=True, startangle=45)\n",
    "ax1.axis('equal')  # el pie tiene forma de círculo\n",
    "\n",
    "plt.show()"
   ]
  },
  {
   "cell_type": "markdown",
   "metadata": {
    "colab_type": "text",
    "id": "vL0rjKoH7O1j"
   },
   "source": [
    "### Box Plot de Polaridad y Subjetividad"
   ]
  },
  {
   "cell_type": "code",
   "execution_count": 44,
   "metadata": {
    "colab": {
     "base_uri": "https://localhost:8080/",
     "height": 281
    },
    "colab_type": "code",
    "id": "RRg3jtZH1Fsl",
    "outputId": "5158ee01-5a57-463f-dfd7-4a323a6eeeda"
   },
   "outputs": [
    {
     "data": {
      "image/png": "[encoded data removed]",
      "text/plain": [
       "<Figure size 432x288 with 2 Axes>"
      ]
     },
     "metadata": {
      "needs_background": "light",
      "tags": []
     },
     "output_type": "display_data"
    }
   ],
   "source": [
    "fig2, ax = plt.subplots(1,2)\n",
    "ax[0].set_title('Polaridad')\n",
    "ax[0].boxplot(dataOut.polaridad)\n",
    "ax[1].set_title('Subjetividad')\n",
    "ax[1].boxplot(dataOut.subje)\n",
    "plt.show()"
   ]
  },
  {
   "cell_type": "markdown",
   "metadata": {
    "colab_type": "text",
    "id": "_AIvns_l8qus"
   },
   "source": [
    "### Análsis Estadístico con Comentarios\n",
    "Estadística Descriptiva de Reviews"
   ]
  },
  {
   "cell_type": "code",
   "execution_count": 45,
   "metadata": {
    "colab": {
     "base_uri": "https://localhost:8080/",
     "height": 284
    },
    "colab_type": "code",
    "id": "kNDzSdO_9N6p",
    "outputId": "c6c830bf-78f7-416f-f2c0-76898ec04a4a"
   },
   "outputs": [
    {
     "data": {
      "text/html": [
       "<div>\n",
       "<style scoped>\n",
       "    .dataframe tbody tr th:only-of-type {\n",
       "        vertical-align: middle;\n",
       "    }\n",
       "\n",
       "    .dataframe tbody tr th {\n",
       "        vertical-align: top;\n",
       "    }\n",
       "\n",
       "    .dataframe thead th {\n",
       "        text-align: right;\n",
       "    }\n",
       "</style>\n",
       "<table border=\"1\" class=\"dataframe\">\n",
       "  <thead>\n",
       "    <tr style=\"text-align: right;\">\n",
       "      <th></th>\n",
       "      <th>polaridad</th>\n",
       "      <th>subje</th>\n",
       "    </tr>\n",
       "  </thead>\n",
       "  <tbody>\n",
       "    <tr>\n",
       "      <th>count</th>\n",
       "      <td>234.000000</td>\n",
       "      <td>234.000000</td>\n",
       "    </tr>\n",
       "    <tr>\n",
       "      <th>mean</th>\n",
       "      <td>0.344702</td>\n",
       "      <td>0.618583</td>\n",
       "    </tr>\n",
       "    <tr>\n",
       "      <th>std</th>\n",
       "      <td>0.219304</td>\n",
       "      <td>0.136153</td>\n",
       "    </tr>\n",
       "    <tr>\n",
       "      <th>min</th>\n",
       "      <td>-0.536429</td>\n",
       "      <td>0.000000</td>\n",
       "    </tr>\n",
       "    <tr>\n",
       "      <th>25%</th>\n",
       "      <td>0.200000</td>\n",
       "      <td>0.541873</td>\n",
       "    </tr>\n",
       "    <tr>\n",
       "      <th>50%</th>\n",
       "      <td>0.350893</td>\n",
       "      <td>0.613812</td>\n",
       "    </tr>\n",
       "    <tr>\n",
       "      <th>75%</th>\n",
       "      <td>0.478460</td>\n",
       "      <td>0.700000</td>\n",
       "    </tr>\n",
       "    <tr>\n",
       "      <th>max</th>\n",
       "      <td>1.000000</td>\n",
       "      <td>1.000000</td>\n",
       "    </tr>\n",
       "  </tbody>\n",
       "</table>\n",
       "</div>"
      ],
      "text/plain": [
       "        polaridad       subje\n",
       "count  234.000000  234.000000\n",
       "mean     0.344702    0.618583\n",
       "std      0.219304    0.136153\n",
       "min     -0.536429    0.000000\n",
       "25%      0.200000    0.541873\n",
       "50%      0.350893    0.613812\n",
       "75%      0.478460    0.700000\n",
       "max      1.000000    1.000000"
      ]
     },
     "execution_count": 45,
     "metadata": {
      "tags": []
     },
     "output_type": "execute_result"
    }
   ],
   "source": [
    "dataOut.describe()"
   ]
  },
  {
   "cell_type": "markdown",
   "metadata": {
    "colab_type": "text",
    "id": "Y4dvRYTP9wKy"
   },
   "source": [
    "La mayor parte de los reviews (94.4%) tienen una polaridad positiva (mayor a cero) sin embargo, en promedio la polaridad es de 0.34, lo cual indica que es positiva la percepción sobre el restaurante, pero no extraordinaria (equivalente a tener una media cercana a un valor de 1). De hecho puede verificarse que el 75% de los reviews tiene una puntuación de polaridad menor a 0.5. Puede concluirse que en general la percepción es buena, pero no extraordinariamente buena."
   ]
  },
  {
   "cell_type": "markdown",
   "metadata": {
    "colab_type": "text",
    "id": "G6REW8nb-fo1"
   },
   "source": [
    "En cuanto a la subjetividad, puede verificarse que la media es de 0.62, es decir, se encuentran más opiniones relacionadas con sentimientos y la percepción propia de cada individuo, que opiniones objetivas. En este análisis realmente hay poca información objetiva en los reviews. De hecho, solo el 25% de los reviews contienen información por debajo del 0.54 de subjetividad, es decir, reviews con algún valor objetivo.\n",
    "Por este motivo, en general, se recomendaría trabajar en la imagen del restaurante, ya que la mayor parte de sus reviews provienen de la percepción que tienen del mismo."
   ]
  },
  {
   "cell_type": "markdown",
   "metadata": {
    "colab_type": "text",
    "id": "DgWwEo5T_2Ee"
   },
   "source": [
    "### Problema 2:\n",
    "Cree un web scraper para los reviews del sitio Trip Advisor, similar al demo trabajado durante la clase #8. Desarrolle un programa que le permita aplicar el análisis de sentimientos desarrollado por su persona en el ejercicio anterior, deberá analizar el código HTML para poder realizar exitosamente el web scraper.\n",
    "Para el caso de Trip Advisor, podrá notar que la URL se modifica por medio de un parámetro llamado or-X donde X es el indice inicial de cada review. En Trip Advisor, los reviews están organizados en múltiplos de 5. A continuación se le muestra una URL y el parámetro de configuración mencionado:\n",
    "\n",
    "https://www.tripadvisor.com.mx/Hotel_Review-g662606-d283869-Reviews-or5-Jardines_de_Nivaria_Adrian_Hoteles-Costa_Adeje_Adeje_Tenerife_Canary_Islands.html#REVIEW\n"
   ]
  },
  {
   "cell_type": "code",
   "execution_count": 10,
   "metadata": {
    "colab": {
     "base_uri": "https://localhost:8080/",
     "height": 120
    },
    "colab_type": "code",
    "id": "3B0aywrwBSxY",
    "outputId": "9ae5f88a-a65d-45a7-9733-967518adbe25"
   },
   "outputs": [
    {
     "data": {
      "application/vnd.google.colaboratory.intrinsic+json": {
       "type": "string"
      },
      "text/plain": [
       "'What a find.  This motel possesses all of the charm you would expect of a boutique motel.  The rooms/suites are clean and comfortable.  We stayed in a king unit with full kitchen (kitchen had everything you need to prepare a meal along with a k-pod coffee maker, microwave, toaster, full fridge with freezer, oven and range, utensils, etc.) off the court yard. There is free onsite parking in individual garages; a rarity in The City. The location is ideal near the Presidio, Palace of Fine Arts and within walking distance to some amazing restaurants that have adjusted to outdoor dining during COVID-19.   Keep in mind that this facility was originally built back in the 1930&#39;s and the garages do not accommodate today&#39;s larger and wider vehicles.  I have a smaller VW and was worried</span><span class=\"_1M-1YYJt\"> that I would hit my side mirrors when pulling in, fortunately I didn&#x27;t.   All units are upstairs, so if you have mobility issues, this might not be the place for you.  The internet is also available long with cable TV.  We did notice that there were no phones in our room.  We were down on business and plan to return for relaxation and leisure. </span><span>&hellip;'"
      ]
     },
     "execution_count": 10,
     "metadata": {
      "tags": []
     },
     "output_type": "execute_result"
    }
   ],
   "source": [
    "response = requests.get('https://www.tripadvisor.com/Hotel_Review-g60713-d82116-Reviews-Marina_Motel-San_Francisco_California.html')\n",
    "TextoInicio = '<q class=\"IRsGHoPm\"><span>'\n",
    "TextoFinal ='</span></q>'\n",
    "\n",
    "review = re.search(TextoInicio + '(.+?)' + TextoFinal, response.text).group(1)\n",
    "review"
   ]
  },
  {
   "cell_type": "code",
   "execution_count": 12,
   "metadata": {
    "colab": {
     "base_uri": "https://localhost:8080/",
     "height": 34
    },
    "colab_type": "code",
    "id": "7LOW3xABCpxZ",
    "outputId": "db2a5527-1b1a-48cf-b0e2-36d215ad40bc"
   },
   "outputs": [
    {
     "data": {
      "text/plain": [
       "694"
      ]
     },
     "execution_count": 12,
     "metadata": {
      "tags": []
     },
     "output_type": "execute_result"
    }
   ],
   "source": [
    "TextoInicio='<span class=\"_33O9dg0j\">'\n",
    "TextoFinal=\"reviews</span>\"\n",
    "\n",
    "numeroreviews = re.search(TextoInicio + '(.+?)' + TextoFinal, response.text).group(1)\n",
    "numeroreviews = np.int(numeroreviews)\n",
    "numeroreviews"
   ]
  },
  {
   "cell_type": "markdown",
   "metadata": {
    "colab_type": "text",
    "id": "HfgEpOmckV2p"
   },
   "source": [
    "Se arma el corpus para el Sentiment Analysis"
   ]
  },
  {
   "cell_type": "code",
   "execution_count": 16,
   "metadata": {
    "colab": {
     "base_uri": "https://localhost:8080/",
     "height": 910
    },
    "colab_type": "code",
    "id": "IxjpONCUj97b",
    "outputId": "d9ecc383-af6e-43f6-a0ae-167b7b116c16"
   },
   "outputs": [
    {
     "name": "stdout",
     "output_type": "stream",
     "text": [
      "0\n",
      "https://www.tripadvisor.com/Hotel_Review-g60713-d82116-Reviews-or0-Marina_Motel-San_Francisco_California.html#REVIEWS\n",
      "200\n",
      "What a find.  This motel possesses all of the charm you would expect of a boutique motel.  The rooms/suites are clean and comfortable.  We stayed in a king unit with full kitchen (kitchen had everything you need to prepare a meal along with a k-pod coffee maker, microwave, toaster, full fridge with freezer, oven and range, utensils, etc.) off the court yard. There is free onsite parking in individual garages; a rarity in The City. The location is ideal near the Presidio, Palace of Fine Arts and within walking distance to some amazing restaurants that have adjusted to outdoor dining during COVID-19.   Keep in mind that this facility was originally built back in the 1930&#39;s and the garages do not accommodate today&#39;s larger and wider vehicles.  I have a smaller VW and was worried</span><span class=\"_1M-1YYJt\"> that I would hit my side mirrors when pulling in, fortunately I didn&#x27;t.   All units are upstairs, so if you have mobility issues, this might not be the place for you.  The internet is also available long with cable TV.  We did notice that there were no phones in our room.  We were down on business and plan to return for relaxation and leisure. </span><span>&hellip;\n",
      "----\n",
      "We stayed at the Marina Motel in December 2019.  It was delightful!  It looks like a European hotel, with lots of beautiful plants and flowers everywhere.  There were hummingbirds bombing around the courtyard.  Our room was spacious and immaculate.  The rooms have a B&amp;B feel to them, with beautiful old bureaus and beds. Everyone we met here was friendly and helpful.  It was nice to be able to park the car within the locked area of the motel.  Next time we are in San Francisco, we&#39;ll stay here again.  Check out the Home Plate for a breakfast that will keep you going all day.\n",
      "----\n",
      "We cancelled our plans to visit SF due to the corona virus. This is the only hotel that charged us to cancel 3 months in advance. We plan on going to SF after the pandemic is over, but will not stay at Marina Motel.\n",
      "----\n",
      "My partner and I rented the queen room with a kitchen facing the courtyard. The exterior of the motel with the flower boxes, the bougainvillea, and the profuse flowering pots was reminiscent of small inns and hotels that i&#39;ve stayed at in Europe (Spain, Portugal, Italy, France, etc). We were utterly delighted by the charm of the room itself. It felt more like a one bedroom apartment, with the kitchen fully equipped which was especially useful as we were buying takeout and eating in. The wood trim in the room, the vintage look of the kitchen, even the hardware in the doors were all of the period of late 30&#39;s. Everything was spotlessly clean, the bathroom with the mosaic tiled shower stall was updated, and the bedding, mattress, pillows were very comfortable. It was such a lovely</span><span class=\"_1M-1YYJt\"> experience- I even started imagining myself living there. Among the other plusses were that the location is very convenient on Lombard. Chestnut street is one block parallel with Lombard St with yummy restaurants like A16 and Super Duper burgers and a number of sushi places. Marina supermarket is also close by with a very extensive selection considering its size and the motel is a hop, jump, and skip to the Presidio and Chrissy Fields. Also, the garages are conveniently built beneath the rooms so your car can be parked with a level of security. The motel also provides guests with a lock for the garage door which would be something to consider if your room is facing Lombard street. While the entrance to the garage is narrow, the interior is quite spacious. Overall, the motel is a fantastic value especially if you are looking for charm, character, and a different experience from big chains or even boutique hotels. I was so happy to have stayed there!</span><span>&hellip;\n",
      "----\n",
      "Such a beautiful motel in San Francisco on Lombard St.  The motel has the look and feel of old Italy.  Built by the son of a California Gold Rush miner, the historic Marina Motel was built to celebrate the opening of the Golden Gate Bridge in the late 1930&#39;s and is still run by the same family.  The motel is located between Fisherman&#39;s Wharf and the Golden Gate Bridge in the popular Marina District, the Marina Motel offers a one-of-a-kind, old world experience. The first impression one has upon stepping into the motel&#39;s cobblestone courtyard is the feeling of being in Italy.  The room we were given is more like a small apartment.  Large room with a queen size bed, a chair for relaxing and a dresser for clothes.  There is a full kitchen that looks original to the 1930&#39;s and well</span><span class=\"_1M-1YYJt\"> maintained.  A beautiful updated bathroom with a full tile shower.  Room and bath were very clean.  Kitchen looked out into a sweet little garden with a lemon tree in full fruit.  Great location, close to the coast where you can see the Golden Gate Bridge.  Fun spot.  Fantastic bakeries and restaurants within walking distance.  Service was fine, checking in was easy and will stay there the next time in San Francisco.</span><span>&hellip;\n",
      "----\n",
      "5\n",
      "https://www.tripadvisor.com/Hotel_Review-g60713-d82116-Reviews-or5-Marina_Motel-San_Francisco_California.html#REVIEWS\n",
      "200\n",
      "If you want to stay somewhere very nice and very affordable, please don&#39;t hesitate to pick this one. From the moment you meet the owners at the front desk, you feel right at home. It is family-owned and run, and they were very welcoming and helpful. For example, when something was wrong with the cold water not coming out of our kitchen faucet, we told them and they fixed it quickly and with a smile.  The rooms themselves are super cute and comfortable; the bed was soft and we always felt well-rested. The full kitchen was so nice to have as we liked being able to cook some of our meals. The bathroom was lovely and updated.  There was free parking in actual garage stalls, which was very nice to have as a lot of places don&#39;t have any sort of free parking.  TIP: make sure to ask for</span><span>&hellip;\n",
      "----\n",
      "Quaint little hotel we chose for the Marina location and secure parking. We had a Queen on the back of the property away from the busy street so the noise wasn’t too bad. I don’t think I would book a room right on Lombard. Rooms are above the garage so you’ll need to use the stairs. You may not get the garage right below you and large vehicles wont fit. The bed was comfortable and we liked having a kitchenette, mostly for takeout. Would stay again.\n",
      "----\n",
      "We were looking to explore some San Francisco history and chose the Marina Motel. its a comfortable place to stay. The motel was built in 1939 to celebrate the opening of the Golden Gate Bridge.  We lucked out and stayed on a very nice sunny day.  The motel describes itself as &quot;the best kept secret in San Francisco&quot;.  The motel itself was built by Henry Louis, who was the son of a California Gold Rush Miner. His gold stake itself was close to Yosemite National Park and was called The Hannover Mine. It is in Madera.  He lived in San Francisco with his mother and three siblings.  His father would go work at the Hanover Mine and then return as he could. He returned by horse and wagon.  The motel has pretty plants.  There are also hummingbirds to see.  The rooms are well maintained.</span><span>&hellip;\n",
      "----\n",
      "Based on the reviews, we paid the extra for the courtyard room so that we could avoid the street noise. When we checked in at 1000 pm, we went to our room. Not only could we clearly hear cars driving down the street, but could SEE the cars! I went to the front desk and Natalie said, “oh, I wish the manager wouldn’t describe it as a courtyard room.” WHAT? I reserved and paid for a courtyard room two weeks in advance but we were given the “substandard” courtyard room. Btw, we never saw a “courtyard”. Because they were full, all Natalie offered us was to refund our money so that we could go look for another hotel... at 1030 at night. Shame on them! Obviously , there are people who have had a good experience here. I would not trust them - Natalie even admitted that they basically</span><span>&hellip;\n",
      "----\n",
      "My girlfriend and I went to SF for a weekend stay (3 nights). Not wanting to stay right in the middle of the busy downtown districts, we booked a courtyard room at the Marina Motel.  The area around the motel is great and full of great restaurants and bars (and even some shopping). It&#39;s close to (within walking distance of) both the Presidio park, the Golden Gate bridge and the promenade running beneath it. Far enough removed from the downtown districts that you mostly meet locals on the street (though still on the main road out of town, so busy in terms of traffic). A twenty-to-forty minute walk to the south will bring you through residential neighborhoods with great mansions down to the painted ladies and a little further to get to the Castro area.  While the room is somewhat</span><span>&hellip;\n",
      "----\n",
      "10\n",
      "https://www.tripadvisor.com/Hotel_Review-g60713-d82116-Reviews-or10-Marina_Motel-San_Francisco_California.html#REVIEWS\n",
      "200\n",
      "We booked two rooms for the entire party.  One room with a kitchenette to accommodate constantly eating children.  The fact that we had parking was great.  Little garages with locking doors.  The location was also great.  Right on Lombard street within walking distance of restaurants, bars and sights.  However everything was crammed into the little rooms.  Our full sized, lumpy bed was right up against a window.  It needed a good cleaning and painting as well.  We heard a coughing pair in the next room all night.  The exterior looks amazing.  The interior not so much. The front desk staff was friendly though. And just to be fair... we had a sick child in the group and had to check out the next day.  We were not given any refund for that and had to pay full price for two unused</span><span>&hellip;\n",
      "----\n",
      "We&#39;re just ending a 9 day stay at the Marina.  I&#39;m so glad we chose this property. The owners are usually on-property and will fix any issues that arise.  (We had a problem with our shower head, and it was replaced immediately.)  The hotel is a step back in time.  (t was built in 1939.)  The rooms are not large, but ours was immaculately clean with plenty of closet and storage space.  (The motel looks exactly like the pictures on the motel&#39;s website.)  We had a small, fully equipped kitchen including a gas stove.  With the price of food in San Francisco, it&#39;s great to be able to eat some meals in.  There is a wonderful small grocery on Chestnut about 3 blocks away (Marina Supermarket) with all the staples you will need plus a full deli, bakery, and plenty of prepared items you</span><span>&hellip;\n",
      "----\n",
      "Lovely staff, lovely courtyard and everyone is very friendly. You can store your bags there if your flight is later in the day free of charge too and they will arrange a taxi to the airport for you too.  It is quite loud at night from the road and ships but this cannot be helped where’ve you stay in the marina.  My only request to the motel is that they stop using plastic cups in each room as each cup also comes wrapped in a plastic bag which is so so bag for this environment! I beg this hotel to reduce their single use plastic waste and buy 2 mugs for each room instead of using plastic cups covered in plastic bags.   With the current climate crisis we need all hotels to stop using single use plastic and polluting the oceans :(\n",
      "----\n",
      "There were spider bugs in my towel, stains in the carpet, beat-up old furniture. Freezing cold at night as there was only a small radiator in the front area. It sounded like the traffic was running through the room (door &amp; window opens up to 4 lane road) as the door nor window was sealed. The room also moved when a large truck went by.\n",
      "----\n",
      "We checked in, and the immediate neighborhood notwithstanding, the motel is cute, cozy and quaint. Beautiful garden greets you, our room was a bit small but had an excellent bed, pillows and shower -very comfortable. They even had fresh cookies at night. A great find, close to the marina, Presidio and Chestnut.\n",
      "----\n",
      "15\n",
      "https://www.tripadvisor.com/Hotel_Review-g60713-d82116-Reviews-or15-Marina_Motel-San_Francisco_California.html#REVIEWS\n",
      "200\n",
      "I picked this Motel only from my recollection of the area 30 years ago. We drove into a beautiful garden and check-in was quick and welcoming. If you prefer modern and sleek  rooms, this is not the place to stay. The building is older, the rooms up a few stairs, with tuck under garages for your car. Lombard is a busy street, but most streets in San Francisco are noisy and busy.  The room was clean, the bed comfortable, the bathroom newer and spotless with plenty of hot water. The staff/owners are wonderful and friendly. A Walgreen on the opposite corner for all your snack needs. A block south begins an area of small restaurants and deli&#39;s. Go straight and pass beautiful homes, to a Marina with views of the Golden Gate and Alcatraz. Our San Francisco friend said we picked a great</span><span>&hellip;\n",
      "----\n",
      "My husband, two dogs, and I just spent three lovely days in a courtyard room at the Marina Motel. We were just a few minutes stroll from wonderful restaurants and a short jog to the beach at Crissy Field with an unbelievable view of the Golden Gate Bridge. Walking the dogs at sunset on the beach and around the lagoon at the Palace of Fine Arts was a real treat! Every staff member was extremely welcoming, and they paid great attention to details that made our stay extra special, including the beautiful flowers outside our courtyard window, our well-equipped kitchen, quality bath amenities and chocolate chip cookies in the office. The courtyard was nice and quiet, as the rooms are  above individual garages with nothing above, and only quiet dogs are allowed :) We thoroughly</span><span>&hellip;\n",
      "----\n",
      "The architecture and landscaping of this 1930s era motor court is sweet and welcoming on an otherwise unwelcoming Lombard Ave thoroughfare. The queen bed furnished room is very small, but provides all the necessary amenities. A big plus is onsite parking in quaint little garages under the rooms. Unfortunately, the cleaning staff, while sweet and hard working, are understaffed, leading to several delays during our stay. The surrounding neighborhood of Chestnut Street to the bay and the nearby Presidio provide many hours of walking exploration and meals.\n",
      "----\n",
      "We stayed for 2 nights whilst the weather was unseasonably hot so the rooms were very hot. There is a fan which we left on with the windows open and it did cool down a bit in the evening. We had 2 courtyard rooms with a Jack and Jill bathroom and although it was fine for 2 nights the rooms are quite small so I don&#39;t think I would like to do a long stay. Having said that I think it is really good value for San Francisco as it includes parking, we were driving a rental suv and had no problems fitting it in the garage. It&#39;s situated on a really busy road so rooms at the front will be noisy but we didn&#39;t have any issues. It is a good location and you can easily get to most locations. \n",
      "----\n",
      "A lovely motel with a beautiful flower filled courtyard located between Golden Gate Bridge and Fishermans Wharf. We had room 22 which consisted of 2 x queen beds and a kitchen area. The room was very small for 4 adults (which we knew beforehand) but it was on the back of the motel away from the noise of the main road. It was &#39;olde worlde&quot; but spotlessly clean and had everything you wanted. It was good to have a kitchen area - if only for a coffee in the morning and a fridge for drinks. Parking on site was a real bonus and there&#39;s a bus stop outside. Overall, a lovely quaint motel with very friendly staff.\n",
      "----\n"
     ]
    }
   ],
   "source": [
    "TextoInicio = '<q class=\"IRsGHoPm\"><span>'\n",
    "TextoFinal ='</span></q>'\n",
    "\n",
    "corpus = []\n",
    "# Para hacer el scrapping completo, descomentar la siguiente linea. \n",
    "# Por motivos de prueba y para evitar el banneo de IP por parte de la página tripadvisor.com\n",
    "# se mostrará el funcionamiento con las primeras 4 páginas\n",
    "\n",
    "#for i in range(0,numeroreviews,5):\n",
    "for i in range(0,20,5):\n",
    "    print (i)\n",
    "    string = \"https://www.tripadvisor.com/Hotel_Review-g60713-d82116-Reviews-or\"+str(i)+\"-Marina_Motel-San_Francisco_California.html#REVIEWS\"\n",
    "    print(string)\n",
    "    response = requests.get(string)\n",
    "    print(response.status_code)\n",
    "    completeHTML = response.text\n",
    "    indexList = [(element.start(0), element.end(0)) for element in re.finditer(TextoInicio + '(.+?)' + TextoFinal, completeHTML)]\n",
    "\n",
    "    for index in indexList:\n",
    "        inf = index[0]\n",
    "        sup = index[1]\n",
    "\n",
    "        review = completeHTML[inf + len(TextoInicio): sup - len(TextoFinal)]\n",
    "        print(review)\n",
    "        print('----')\n",
    "        corpus.append(review)"
   ]
  },
  {
   "cell_type": "markdown",
   "metadata": {
    "colab_type": "text",
    "id": "VM6qVDuBszi1"
   },
   "source": [
    "### Normalización del Corpus:"
   ]
  },
  {
   "cell_type": "code",
   "execution_count": 17,
   "metadata": {
    "colab": {},
    "colab_type": "code",
    "id": "90CPBxClsxu_"
   },
   "outputs": [],
   "source": [
    "allReviews = []\n",
    "for index, review in enumerate(corpus):\n",
    "    review = review.replace('<br>','')\n",
    "    review = review.replace('&#39;',\"'\")\n",
    "    review = review.replace(u'\\xa0',\" \")\n",
    "    review = review.lower()\n",
    "    review = review.rstrip('\\n')\n",
    "    allReviews.append(review)"
   ]
  },
  {
   "cell_type": "code",
   "execution_count": 18,
   "metadata": {
    "colab": {
     "base_uri": "https://localhost:8080/",
     "height": 34
    },
    "colab_type": "code",
    "id": "kKx4wrC6s8Il",
    "outputId": "c1f08082-e68b-4b2d-8ea4-9795968dc15d"
   },
   "outputs": [
    {
     "data": {
      "text/plain": [
       "20"
      ]
     },
     "execution_count": 18,
     "metadata": {
      "tags": []
     },
     "output_type": "execute_result"
    }
   ],
   "source": [
    "len(allReviews)"
   ]
  },
  {
   "cell_type": "markdown",
   "metadata": {
    "colab_type": "text",
    "id": "8_yPwSegtE8q"
   },
   "source": [
    "### Sentiment Analysis"
   ]
  },
  {
   "cell_type": "code",
   "execution_count": 19,
   "metadata": {
    "colab": {},
    "colab_type": "code",
    "id": "DGKmfIfbtEMv"
   },
   "outputs": [],
   "source": [
    "from textblob import TextBlob\n",
    "\n",
    "polarities = []\n",
    "subjs = []\n",
    "label = []\n",
    "\n",
    "for review in allReviews:\n",
    "    sentimiento = TextBlob(review)\n",
    "    polarities.append(sentimiento.polarity)\n",
    "    subjs.append(sentimiento.subjectivity)\n",
    "\n",
    "    if (sentimiento.polarity > 0):\n",
    "        label.append('positivo')\n",
    "    elif (sentimiento.polarity < 0 ):\n",
    "        label.append('negativo')\n",
    "    else:\n",
    "        label.append('neutro')"
   ]
  },
  {
   "cell_type": "code",
   "execution_count": 20,
   "metadata": {
    "colab": {
     "base_uri": "https://localhost:8080/",
     "height": 195
    },
    "colab_type": "code",
    "id": "Q4OZII62tNI9",
    "outputId": "9d4fd60a-b8b7-4627-ea3d-862419a39307"
   },
   "outputs": [
    {
     "data": {
      "text/html": [
       "<div>\n",
       "<style scoped>\n",
       "    .dataframe tbody tr th:only-of-type {\n",
       "        vertical-align: middle;\n",
       "    }\n",
       "\n",
       "    .dataframe tbody tr th {\n",
       "        vertical-align: top;\n",
       "    }\n",
       "\n",
       "    .dataframe thead th {\n",
       "        text-align: right;\n",
       "    }\n",
       "</style>\n",
       "<table border=\"1\" class=\"dataframe\">\n",
       "  <thead>\n",
       "    <tr style=\"text-align: right;\">\n",
       "      <th></th>\n",
       "      <th>polaridad</th>\n",
       "      <th>subje</th>\n",
       "      <th>etiqueta</th>\n",
       "    </tr>\n",
       "  </thead>\n",
       "  <tbody>\n",
       "    <tr>\n",
       "      <th>0</th>\n",
       "      <td>0.269599</td>\n",
       "      <td>0.563272</td>\n",
       "      <td>positivo</td>\n",
       "    </tr>\n",
       "    <tr>\n",
       "      <th>1</th>\n",
       "      <td>0.475000</td>\n",
       "      <td>0.591667</td>\n",
       "      <td>positivo</td>\n",
       "    </tr>\n",
       "    <tr>\n",
       "      <th>2</th>\n",
       "      <td>-0.062500</td>\n",
       "      <td>0.687500</td>\n",
       "      <td>negativo</td>\n",
       "    </tr>\n",
       "    <tr>\n",
       "      <th>3</th>\n",
       "      <td>0.168810</td>\n",
       "      <td>0.508333</td>\n",
       "      <td>positivo</td>\n",
       "    </tr>\n",
       "    <tr>\n",
       "      <th>4</th>\n",
       "      <td>0.277615</td>\n",
       "      <td>0.511008</td>\n",
       "      <td>positivo</td>\n",
       "    </tr>\n",
       "  </tbody>\n",
       "</table>\n",
       "</div>"
      ],
      "text/plain": [
       "   polaridad     subje  etiqueta\n",
       "0   0.269599  0.563272  positivo\n",
       "1   0.475000  0.591667  positivo\n",
       "2  -0.062500  0.687500  negativo\n",
       "3   0.168810  0.508333  positivo\n",
       "4   0.277615  0.511008  positivo"
      ]
     },
     "execution_count": 20,
     "metadata": {
      "tags": []
     },
     "output_type": "execute_result"
    }
   ],
   "source": [
    "dataOut = pd.DataFrame({'polaridad':polarities,'subje':subjs,'etiqueta':label})\n",
    "dataOut.head()"
   ]
  },
  {
   "cell_type": "code",
   "execution_count": 21,
   "metadata": {
    "colab": {
     "base_uri": "https://localhost:8080/",
     "height": 67
    },
    "colab_type": "code",
    "id": "zrmP7lYDtTJH",
    "outputId": "ca83796e-c7f1-4096-c9c8-574bc3423ad7"
   },
   "outputs": [
    {
     "data": {
      "text/plain": [
       "positivo    0.85\n",
       "negativo    0.15\n",
       "Name: etiqueta, dtype: float64"
      ]
     },
     "execution_count": 21,
     "metadata": {
      "tags": []
     },
     "output_type": "execute_result"
    }
   ],
   "source": [
    "dataOut.etiqueta.value_counts()/len(dataOut)"
   ]
  },
  {
   "cell_type": "markdown",
   "metadata": {
    "colab_type": "text",
    "id": "_MPEJ0c2thGt"
   },
   "source": [
    "### Gráfica Positivos y Negativos"
   ]
  },
  {
   "cell_type": "code",
   "execution_count": 22,
   "metadata": {
    "colab": {
     "base_uri": "https://localhost:8080/",
     "height": 248
    },
    "colab_type": "code",
    "id": "vT9RjEb6tX0f",
    "outputId": "ac5efc82-c0d3-4ddc-b24a-2a1f8e6837fe"
   },
   "outputs": [
    {
     "data": {
      "image/png": "[encoded data removed]",
      "text/plain": [
       "<Figure size 432x288 with 1 Axes>"
      ]
     },
     "metadata": {
      "tags": []
     },
     "output_type": "display_data"
    }
   ],
   "source": [
    "import matplotlib.pyplot as plt\n",
    "\n",
    "# Gráfica de Pie:\n",
    "labels = 'Positivos', 'Negativos'\n",
    "sizes = [dataOut.etiqueta.value_counts()[0], dataOut.etiqueta.value_counts()[1]]\n",
    "explode = (0, 0.3)  # separación de la segunda pieza del pie\n",
    "colors = ['gold', 'yellowgreen']\n",
    "\n",
    "fig1, ax1 = plt.subplots()\n",
    "ax1.pie(sizes, explode=explode, labels=labels, colors=colors, autopct='%1.1f%%',\n",
    "        shadow=True, startangle=45)\n",
    "ax1.axis('equal')  # el pie tiene forma de círculo\n",
    "\n",
    "plt.show()"
   ]
  },
  {
   "cell_type": "markdown",
   "metadata": {
    "colab_type": "text",
    "id": "OuYLQu2ettnB"
   },
   "source": [
    "### Box Plot de Polaridad y Subjetividad"
   ]
  },
  {
   "cell_type": "code",
   "execution_count": 23,
   "metadata": {
    "colab": {
     "base_uri": "https://localhost:8080/",
     "height": 281
    },
    "colab_type": "code",
    "id": "-9arcf7ttzNj",
    "outputId": "567f3654-7cee-4f38-f39f-48953e3a5c6d"
   },
   "outputs": [
    {
     "data": {
      "image/png": "[encoded data removed]",
      "text/plain": [
       "<Figure size 432x288 with 2 Axes>"
      ]
     },
     "metadata": {
      "needs_background": "light",
      "tags": []
     },
     "output_type": "display_data"
    }
   ],
   "source": [
    "fig2, ax = plt.subplots(1,2)\n",
    "ax[0].set_title('Polaridad')\n",
    "ax[0].boxplot(dataOut.polaridad)\n",
    "ax[1].set_title('Subjetividad')\n",
    "ax[1].boxplot(dataOut.subje)\n",
    "plt.show()"
   ]
  }
 ],
 "metadata": {
  "colab": {
   "collapsed_sections": [],
   "name": "Hoja4.ipynb",
   "provenance": []
  },
  "kernelspec": {
   "display_name": "Python 3",
   "language": "python",
   "name": "python3"
  },
  "language_info": {
   "codemirror_mode": {
    "name": "ipython",
    "version": 3
   },
   "file_extension": ".py",
   "mimetype": "text/x-python",
   "name": "python",
   "nbconvert_exporter": "python",
   "pygments_lexer": "ipython3",
   "version": "3.7.7"
  }
 },
 "nbformat": 4,
 "nbformat_minor": 4
}
